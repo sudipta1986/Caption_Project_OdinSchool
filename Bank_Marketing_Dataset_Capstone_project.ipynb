{
  "cells": [
    {
      "cell_type": "code",
      "execution_count": null,
      "id": "ba5484d1",
      "metadata": {
        "id": "ba5484d1"
      },
      "outputs": [],
      "source": [
        "# This is a Capstone Project about a bank database.\n",
        "# Data science is a ubiquitous field and banks are also recruiting data analysts and data scientists to increase their market \n",
        "# value by selling their products.To accomplish their goals banks want to identify customers who can buy their products such \n",
        "# as credit cards, fixed deposits and term deposits and may take loans. To achieve their targets, the bank’s marketing \n",
        "# strategies have to be efficient so they can examine the results from marketing campaigns for each customer and identify \n",
        "# important factors that may play an efficient role in their campaigns.\n",
        "# In this project our aim is to identify factors that may improve the bank’s marketing strategies to attract more customers \n",
        "# to get a term deposit. \n"
      ]
    },
    {
      "cell_type": "code",
      "execution_count": null,
      "id": "5aba2f9f",
      "metadata": {
        "id": "5aba2f9f"
      },
      "outputs": [],
      "source": [
        "\n",
        "# Here we have two csv files one is bank-full.csv with all 17 columns, ordered by date (older version of this \n",
        "# dataset with less inputs) and another is bank.csv with 10% of the examples and 17 inputs, randomly selected from 3 \n",
        "# (older version of this dataset with less inputs). So we have to merge both file and do the basic exploration and EDA."
      ]
    },
    {
      "cell_type": "code",
      "execution_count": null,
      "id": "f61dd771",
      "metadata": {
        "id": "f61dd771"
      },
      "outputs": [],
      "source": [
        "# Input variables:\n",
        "# After merge the both files we have 17 columns and 49732 rows. Let me give some knowladge about all columns and figure.\n",
        "\n",
        "# 1) Age: This the columns of customer age.\n",
        "# 2) Job: In this columns we have the job status means what kind of job customer's do. We have many attributes like \n",
        "# admin,blue-collar,entrepreneur,housemaid,management,retired,Self-employed,Services,student,technician,unemployed,unknown. \n",
        "# Here unknown means that we don't know what kind of jobs customers do.\n",
        "# 3) Marital_Status: This columns is to see customers marital status. We have three figures like married,single,divorced etc.\n",
        "# 4) Educational_Qualification : This column is given us infromation about customer's education qualification and we have \n",
        "# primary,secondary,tertiary and unknown. Here 'unknown' means we don't know about educational qualification.\n",
        "# 5) Credit_Default: This column tells us about the does customer have credit value or not. If they have then it would be 'Yes' if they\n",
        "# if they don't then 'No'.\n",
        "# 6) Account_Balance: This column help us to show how much balance customer have in their account.\n",
        "# 7) Housing_Loan: This column help us to know does customer have house loan or not if they have then it would be 'Yes' \n",
        "# otherwise 'No'.\n",
        "# 8) Personal_Loan: This column help us to know does customer have personal loan or not if they have then it would be 'Yes' \n",
        "# otherwise 'No'.\n",
        "# 9) Contact_Number: This column belongs to customer contact number whether they have 'cellular' or 'telephone' but we also\n",
        "# found  'unknown' here means we are not sure what kind of contact number they have.\n",
        "# 10) Last_Contact_Day: This is the last contact day with customers basically it's date.\n",
        "# 11) Last_Contact_Month: In which month we connected last time with customers.\n",
        "# 12) Call_Duration: This is the last conversations duration with customers.\n",
        "# 13) Current_Campaign: Number of contacts performed during this campaign and for this client includes last contact.\n",
        "# 14) Gap_Days: Number of days that passed by after the client was last contacted from a previous campaign \n",
        "# (999 means client was not previously contacted).\n",
        "# 15) Previous_Campaign: Number of contacts performed before this campaign and for this customers.\n",
        "# 16) Previous_Campaign_Result: Result of the previous marketing campaign (categorical: \"failure\",\"nonexistent\",\"success\").\n",
        "# 17) Term_Deposit: Does the customers have term deposit or not (Categorical:\"Yes\" and \"No\")."
      ]
    },
    {
      "cell_type": "code",
      "execution_count": null,
      "id": "4901801e",
      "metadata": {
        "id": "4901801e"
      },
      "outputs": [],
      "source": [
        "# Import all the nessery library\n",
        "import pandas as pd\n",
        "import numpy as np\n",
        "import matplotlib.pyplot as plt\n",
        "import seaborn as sns "
      ]
    },
    {
      "cell_type": "code",
      "execution_count": null,
      "id": "e8b4d08f",
      "metadata": {
        "id": "e8b4d08f",
        "outputId": "452f3134-b61d-4cdc-b689-555deab522a4"
      },
      "outputs": [
        {
          "data": {
            "text/html": [
              "<div>\n",
              "<style scoped>\n",
              "    .dataframe tbody tr th:only-of-type {\n",
              "        vertical-align: middle;\n",
              "    }\n",
              "\n",
              "    .dataframe tbody tr th {\n",
              "        vertical-align: top;\n",
              "    }\n",
              "\n",
              "    .dataframe thead th {\n",
              "        text-align: right;\n",
              "    }\n",
              "</style>\n",
              "<table border=\"1\" class=\"dataframe\">\n",
              "  <thead>\n",
              "    <tr style=\"text-align: right;\">\n",
              "      <th></th>\n",
              "      <th>age</th>\n",
              "      <th>job</th>\n",
              "      <th>marital</th>\n",
              "      <th>education</th>\n",
              "      <th>default</th>\n",
              "      <th>balance</th>\n",
              "      <th>housing</th>\n",
              "      <th>loan</th>\n",
              "      <th>contact</th>\n",
              "      <th>day</th>\n",
              "      <th>month</th>\n",
              "      <th>duration</th>\n",
              "      <th>campaign</th>\n",
              "      <th>pdays</th>\n",
              "      <th>previous</th>\n",
              "      <th>poutcome</th>\n",
              "      <th>y</th>\n",
              "    </tr>\n",
              "  </thead>\n",
              "  <tbody>\n",
              "    <tr>\n",
              "      <th>0</th>\n",
              "      <td>30</td>\n",
              "      <td>unemployed</td>\n",
              "      <td>married</td>\n",
              "      <td>primary</td>\n",
              "      <td>no</td>\n",
              "      <td>1787</td>\n",
              "      <td>no</td>\n",
              "      <td>no</td>\n",
              "      <td>cellular</td>\n",
              "      <td>19</td>\n",
              "      <td>oct</td>\n",
              "      <td>79</td>\n",
              "      <td>1</td>\n",
              "      <td>-1</td>\n",
              "      <td>0</td>\n",
              "      <td>unknown</td>\n",
              "      <td>no</td>\n",
              "    </tr>\n",
              "    <tr>\n",
              "      <th>1</th>\n",
              "      <td>33</td>\n",
              "      <td>services</td>\n",
              "      <td>married</td>\n",
              "      <td>secondary</td>\n",
              "      <td>no</td>\n",
              "      <td>4789</td>\n",
              "      <td>yes</td>\n",
              "      <td>yes</td>\n",
              "      <td>cellular</td>\n",
              "      <td>11</td>\n",
              "      <td>may</td>\n",
              "      <td>220</td>\n",
              "      <td>1</td>\n",
              "      <td>339</td>\n",
              "      <td>4</td>\n",
              "      <td>failure</td>\n",
              "      <td>no</td>\n",
              "    </tr>\n",
              "    <tr>\n",
              "      <th>2</th>\n",
              "      <td>35</td>\n",
              "      <td>management</td>\n",
              "      <td>single</td>\n",
              "      <td>tertiary</td>\n",
              "      <td>no</td>\n",
              "      <td>1350</td>\n",
              "      <td>yes</td>\n",
              "      <td>no</td>\n",
              "      <td>cellular</td>\n",
              "      <td>16</td>\n",
              "      <td>apr</td>\n",
              "      <td>185</td>\n",
              "      <td>1</td>\n",
              "      <td>330</td>\n",
              "      <td>1</td>\n",
              "      <td>failure</td>\n",
              "      <td>no</td>\n",
              "    </tr>\n",
              "    <tr>\n",
              "      <th>3</th>\n",
              "      <td>30</td>\n",
              "      <td>management</td>\n",
              "      <td>married</td>\n",
              "      <td>tertiary</td>\n",
              "      <td>no</td>\n",
              "      <td>1476</td>\n",
              "      <td>yes</td>\n",
              "      <td>yes</td>\n",
              "      <td>unknown</td>\n",
              "      <td>3</td>\n",
              "      <td>jun</td>\n",
              "      <td>199</td>\n",
              "      <td>4</td>\n",
              "      <td>-1</td>\n",
              "      <td>0</td>\n",
              "      <td>unknown</td>\n",
              "      <td>no</td>\n",
              "    </tr>\n",
              "    <tr>\n",
              "      <th>4</th>\n",
              "      <td>59</td>\n",
              "      <td>blue-collar</td>\n",
              "      <td>married</td>\n",
              "      <td>secondary</td>\n",
              "      <td>no</td>\n",
              "      <td>0</td>\n",
              "      <td>yes</td>\n",
              "      <td>no</td>\n",
              "      <td>unknown</td>\n",
              "      <td>5</td>\n",
              "      <td>may</td>\n",
              "      <td>226</td>\n",
              "      <td>1</td>\n",
              "      <td>-1</td>\n",
              "      <td>0</td>\n",
              "      <td>unknown</td>\n",
              "      <td>no</td>\n",
              "    </tr>\n",
              "  </tbody>\n",
              "</table>\n",
              "</div>"
            ],
            "text/plain": [
              "   age          job  marital  education default  balance housing loan  \\\n",
              "0   30   unemployed  married    primary      no     1787      no   no   \n",
              "1   33     services  married  secondary      no     4789     yes  yes   \n",
              "2   35   management   single   tertiary      no     1350     yes   no   \n",
              "3   30   management  married   tertiary      no     1476     yes  yes   \n",
              "4   59  blue-collar  married  secondary      no        0     yes   no   \n",
              "\n",
              "    contact  day month  duration  campaign  pdays  previous poutcome   y  \n",
              "0  cellular   19   oct        79         1     -1         0  unknown  no  \n",
              "1  cellular   11   may       220         1    339         4  failure  no  \n",
              "2  cellular   16   apr       185         1    330         1  failure  no  \n",
              "3   unknown    3   jun       199         4     -1         0  unknown  no  \n",
              "4   unknown    5   may       226         1     -1         0  unknown  no  "
            ]
          },
          "execution_count": 5,
          "metadata": {},
          "output_type": "execute_result"
        }
      ],
      "source": [
        "# To read the first csv file as bank.csv use pd.read and save into a variable and separated with \";\". And check the dataset \n",
        "# with first five rows by head function. And Also convert into a dataframe.\n",
        "bnk= pd.read_csv(\"/Users/Shiva/Desktop/bank.csv\",sep=\";\")\n",
        "bnk=pd.DataFrame(bnk)\n",
        "bnk.head()"
      ]
    },
    {
      "cell_type": "code",
      "execution_count": null,
      "id": "0e0e7ad5",
      "metadata": {
        "id": "0e0e7ad5",
        "outputId": "3f5dd384-aa31-48bf-8aee-5c05dc546cc5"
      },
      "outputs": [
        {
          "data": {
            "text/html": [
              "<div>\n",
              "<style scoped>\n",
              "    .dataframe tbody tr th:only-of-type {\n",
              "        vertical-align: middle;\n",
              "    }\n",
              "\n",
              "    .dataframe tbody tr th {\n",
              "        vertical-align: top;\n",
              "    }\n",
              "\n",
              "    .dataframe thead th {\n",
              "        text-align: right;\n",
              "    }\n",
              "</style>\n",
              "<table border=\"1\" class=\"dataframe\">\n",
              "  <thead>\n",
              "    <tr style=\"text-align: right;\">\n",
              "      <th></th>\n",
              "      <th>age</th>\n",
              "      <th>job</th>\n",
              "      <th>marital</th>\n",
              "      <th>education</th>\n",
              "      <th>default</th>\n",
              "      <th>balance</th>\n",
              "      <th>housing</th>\n",
              "      <th>loan</th>\n",
              "      <th>contact</th>\n",
              "      <th>day</th>\n",
              "      <th>month</th>\n",
              "      <th>duration</th>\n",
              "      <th>campaign</th>\n",
              "      <th>pdays</th>\n",
              "      <th>previous</th>\n",
              "      <th>poutcome</th>\n",
              "      <th>y</th>\n",
              "    </tr>\n",
              "  </thead>\n",
              "  <tbody>\n",
              "    <tr>\n",
              "      <th>0</th>\n",
              "      <td>58</td>\n",
              "      <td>management</td>\n",
              "      <td>married</td>\n",
              "      <td>tertiary</td>\n",
              "      <td>no</td>\n",
              "      <td>2143</td>\n",
              "      <td>yes</td>\n",
              "      <td>no</td>\n",
              "      <td>unknown</td>\n",
              "      <td>5</td>\n",
              "      <td>may</td>\n",
              "      <td>261</td>\n",
              "      <td>1</td>\n",
              "      <td>-1</td>\n",
              "      <td>0</td>\n",
              "      <td>unknown</td>\n",
              "      <td>no</td>\n",
              "    </tr>\n",
              "    <tr>\n",
              "      <th>1</th>\n",
              "      <td>44</td>\n",
              "      <td>technician</td>\n",
              "      <td>single</td>\n",
              "      <td>secondary</td>\n",
              "      <td>no</td>\n",
              "      <td>29</td>\n",
              "      <td>yes</td>\n",
              "      <td>no</td>\n",
              "      <td>unknown</td>\n",
              "      <td>5</td>\n",
              "      <td>may</td>\n",
              "      <td>151</td>\n",
              "      <td>1</td>\n",
              "      <td>-1</td>\n",
              "      <td>0</td>\n",
              "      <td>unknown</td>\n",
              "      <td>no</td>\n",
              "    </tr>\n",
              "    <tr>\n",
              "      <th>2</th>\n",
              "      <td>33</td>\n",
              "      <td>entrepreneur</td>\n",
              "      <td>married</td>\n",
              "      <td>secondary</td>\n",
              "      <td>no</td>\n",
              "      <td>2</td>\n",
              "      <td>yes</td>\n",
              "      <td>yes</td>\n",
              "      <td>unknown</td>\n",
              "      <td>5</td>\n",
              "      <td>may</td>\n",
              "      <td>76</td>\n",
              "      <td>1</td>\n",
              "      <td>-1</td>\n",
              "      <td>0</td>\n",
              "      <td>unknown</td>\n",
              "      <td>no</td>\n",
              "    </tr>\n",
              "    <tr>\n",
              "      <th>3</th>\n",
              "      <td>47</td>\n",
              "      <td>blue-collar</td>\n",
              "      <td>married</td>\n",
              "      <td>unknown</td>\n",
              "      <td>no</td>\n",
              "      <td>1506</td>\n",
              "      <td>yes</td>\n",
              "      <td>no</td>\n",
              "      <td>unknown</td>\n",
              "      <td>5</td>\n",
              "      <td>may</td>\n",
              "      <td>92</td>\n",
              "      <td>1</td>\n",
              "      <td>-1</td>\n",
              "      <td>0</td>\n",
              "      <td>unknown</td>\n",
              "      <td>no</td>\n",
              "    </tr>\n",
              "    <tr>\n",
              "      <th>4</th>\n",
              "      <td>33</td>\n",
              "      <td>unknown</td>\n",
              "      <td>single</td>\n",
              "      <td>unknown</td>\n",
              "      <td>no</td>\n",
              "      <td>1</td>\n",
              "      <td>no</td>\n",
              "      <td>no</td>\n",
              "      <td>unknown</td>\n",
              "      <td>5</td>\n",
              "      <td>may</td>\n",
              "      <td>198</td>\n",
              "      <td>1</td>\n",
              "      <td>-1</td>\n",
              "      <td>0</td>\n",
              "      <td>unknown</td>\n",
              "      <td>no</td>\n",
              "    </tr>\n",
              "  </tbody>\n",
              "</table>\n",
              "</div>"
            ],
            "text/plain": [
              "   age           job  marital  education default  balance housing loan  \\\n",
              "0   58    management  married   tertiary      no     2143     yes   no   \n",
              "1   44    technician   single  secondary      no       29     yes   no   \n",
              "2   33  entrepreneur  married  secondary      no        2     yes  yes   \n",
              "3   47   blue-collar  married    unknown      no     1506     yes   no   \n",
              "4   33       unknown   single    unknown      no        1      no   no   \n",
              "\n",
              "   contact  day month  duration  campaign  pdays  previous poutcome   y  \n",
              "0  unknown    5   may       261         1     -1         0  unknown  no  \n",
              "1  unknown    5   may       151         1     -1         0  unknown  no  \n",
              "2  unknown    5   may        76         1     -1         0  unknown  no  \n",
              "3  unknown    5   may        92         1     -1         0  unknown  no  \n",
              "4  unknown    5   may       198         1     -1         0  unknown  no  "
            ]
          },
          "execution_count": 6,
          "metadata": {},
          "output_type": "execute_result"
        }
      ],
      "source": [
        "# We did same as before to read 2nd csv file as bank-full.csv use pd.read function and save into a variable. With the head \n",
        "# function check first five rows. And also convert into a dataframe.\n",
        "bnkf= pd.read_csv(\"/Users/Shiva/Desktop/bank-full.csv\",sep=\";\")\n",
        "bnkf=pd.DataFrame(bnkf)\n",
        "bnkf.head()"
      ]
    },
    {
      "cell_type": "code",
      "execution_count": null,
      "id": "2771ab71",
      "metadata": {
        "id": "2771ab71",
        "outputId": "93bdda71-5e0d-4980-c05e-dfb974db9d31"
      },
      "outputs": [
        {
          "data": {
            "text/plain": [
              "(4521, 17)"
            ]
          },
          "execution_count": 7,
          "metadata": {},
          "output_type": "execute_result"
        }
      ],
      "source": [
        "# To check how many rows and columns in dataset we used shape function. So, we have 45211 rows and 17 columns.\n",
        "bnk.shape\n"
      ]
    },
    {
      "cell_type": "code",
      "execution_count": null,
      "id": "1e2aa8c2",
      "metadata": {
        "id": "1e2aa8c2",
        "outputId": "0ffe8c6e-6bd4-497b-f4b2-0ddf19e67788"
      },
      "outputs": [
        {
          "data": {
            "text/plain": [
              "(45211, 17)"
            ]
          },
          "execution_count": 8,
          "metadata": {},
          "output_type": "execute_result"
        }
      ],
      "source": [
        "# Check the other dataframe use same shape function.So, we have 45211 rows and 17 columns.\n",
        "bnkf.shape"
      ]
    },
    {
      "cell_type": "code",
      "execution_count": null,
      "id": "087e059e",
      "metadata": {
        "id": "087e059e",
        "outputId": "924231b0-e5f8-4ade-fa4f-92ae37bc6bec"
      },
      "outputs": [
        {
          "data": {
            "text/plain": [
              "False"
            ]
          },
          "execution_count": 9,
          "metadata": {},
          "output_type": "execute_result"
        }
      ],
      "source": [
        "# To check where they are equal or not we can use equals function. And the result is false it's mean they are not equal.\n",
        "bnk['marital'].equals(bnkf['marital'])"
      ]
    },
    {
      "cell_type": "code",
      "execution_count": null,
      "id": "74929f57",
      "metadata": {
        "id": "74929f57",
        "outputId": "05370c64-e42a-448f-87f2-b69d6d3d368f"
      },
      "outputs": [
        {
          "data": {
            "text/html": [
              "<div>\n",
              "<style scoped>\n",
              "    .dataframe tbody tr th:only-of-type {\n",
              "        vertical-align: middle;\n",
              "    }\n",
              "\n",
              "    .dataframe tbody tr th {\n",
              "        vertical-align: top;\n",
              "    }\n",
              "\n",
              "    .dataframe thead th {\n",
              "        text-align: right;\n",
              "    }\n",
              "</style>\n",
              "<table border=\"1\" class=\"dataframe\">\n",
              "  <thead>\n",
              "    <tr style=\"text-align: right;\">\n",
              "      <th></th>\n",
              "      <th>age</th>\n",
              "      <th>job</th>\n",
              "      <th>marital</th>\n",
              "      <th>education</th>\n",
              "      <th>default</th>\n",
              "      <th>balance</th>\n",
              "      <th>housing</th>\n",
              "      <th>loan</th>\n",
              "      <th>contact</th>\n",
              "      <th>day</th>\n",
              "      <th>month</th>\n",
              "      <th>duration</th>\n",
              "      <th>campaign</th>\n",
              "      <th>pdays</th>\n",
              "      <th>previous</th>\n",
              "      <th>poutcome</th>\n",
              "      <th>y</th>\n",
              "    </tr>\n",
              "  </thead>\n",
              "  <tbody>\n",
              "    <tr>\n",
              "      <th>0</th>\n",
              "      <td>30</td>\n",
              "      <td>unemployed</td>\n",
              "      <td>married</td>\n",
              "      <td>primary</td>\n",
              "      <td>no</td>\n",
              "      <td>1787</td>\n",
              "      <td>no</td>\n",
              "      <td>no</td>\n",
              "      <td>cellular</td>\n",
              "      <td>19</td>\n",
              "      <td>oct</td>\n",
              "      <td>79</td>\n",
              "      <td>1</td>\n",
              "      <td>-1</td>\n",
              "      <td>0</td>\n",
              "      <td>unknown</td>\n",
              "      <td>no</td>\n",
              "    </tr>\n",
              "    <tr>\n",
              "      <th>1</th>\n",
              "      <td>33</td>\n",
              "      <td>services</td>\n",
              "      <td>married</td>\n",
              "      <td>secondary</td>\n",
              "      <td>no</td>\n",
              "      <td>4789</td>\n",
              "      <td>yes</td>\n",
              "      <td>yes</td>\n",
              "      <td>cellular</td>\n",
              "      <td>11</td>\n",
              "      <td>may</td>\n",
              "      <td>220</td>\n",
              "      <td>1</td>\n",
              "      <td>339</td>\n",
              "      <td>4</td>\n",
              "      <td>failure</td>\n",
              "      <td>no</td>\n",
              "    </tr>\n",
              "    <tr>\n",
              "      <th>2</th>\n",
              "      <td>35</td>\n",
              "      <td>management</td>\n",
              "      <td>single</td>\n",
              "      <td>tertiary</td>\n",
              "      <td>no</td>\n",
              "      <td>1350</td>\n",
              "      <td>yes</td>\n",
              "      <td>no</td>\n",
              "      <td>cellular</td>\n",
              "      <td>16</td>\n",
              "      <td>apr</td>\n",
              "      <td>185</td>\n",
              "      <td>1</td>\n",
              "      <td>330</td>\n",
              "      <td>1</td>\n",
              "      <td>failure</td>\n",
              "      <td>no</td>\n",
              "    </tr>\n",
              "    <tr>\n",
              "      <th>3</th>\n",
              "      <td>30</td>\n",
              "      <td>management</td>\n",
              "      <td>married</td>\n",
              "      <td>tertiary</td>\n",
              "      <td>no</td>\n",
              "      <td>1476</td>\n",
              "      <td>yes</td>\n",
              "      <td>yes</td>\n",
              "      <td>unknown</td>\n",
              "      <td>3</td>\n",
              "      <td>jun</td>\n",
              "      <td>199</td>\n",
              "      <td>4</td>\n",
              "      <td>-1</td>\n",
              "      <td>0</td>\n",
              "      <td>unknown</td>\n",
              "      <td>no</td>\n",
              "    </tr>\n",
              "    <tr>\n",
              "      <th>4</th>\n",
              "      <td>59</td>\n",
              "      <td>blue-collar</td>\n",
              "      <td>married</td>\n",
              "      <td>secondary</td>\n",
              "      <td>no</td>\n",
              "      <td>0</td>\n",
              "      <td>yes</td>\n",
              "      <td>no</td>\n",
              "      <td>unknown</td>\n",
              "      <td>5</td>\n",
              "      <td>may</td>\n",
              "      <td>226</td>\n",
              "      <td>1</td>\n",
              "      <td>-1</td>\n",
              "      <td>0</td>\n",
              "      <td>unknown</td>\n",
              "      <td>no</td>\n",
              "    </tr>\n",
              "  </tbody>\n",
              "</table>\n",
              "</div>"
            ],
            "text/plain": [
              "   age          job  marital  education default  balance housing loan  \\\n",
              "0   30   unemployed  married    primary      no     1787      no   no   \n",
              "1   33     services  married  secondary      no     4789     yes  yes   \n",
              "2   35   management   single   tertiary      no     1350     yes   no   \n",
              "3   30   management  married   tertiary      no     1476     yes  yes   \n",
              "4   59  blue-collar  married  secondary      no        0     yes   no   \n",
              "\n",
              "    contact  day month  duration  campaign  pdays  previous poutcome   y  \n",
              "0  cellular   19   oct        79         1     -1         0  unknown  no  \n",
              "1  cellular   11   may       220         1    339         4  failure  no  \n",
              "2  cellular   16   apr       185         1    330         1  failure  no  \n",
              "3   unknown    3   jun       199         4     -1         0  unknown  no  \n",
              "4   unknown    5   may       226         1     -1         0  unknown  no  "
            ]
          },
          "execution_count": 10,
          "metadata": {},
          "output_type": "execute_result"
        }
      ],
      "source": [
        "# In order to combine two dataframe we can use merage , join and concatinate. Here we applied concatinate and used head function\n",
        "# to see first five rows.\n",
        "jbnk= pd.concat([bnk,bnkf])\n",
        "jbnk.head()\n"
      ]
    },
    {
      "cell_type": "code",
      "execution_count": null,
      "id": "ce437676",
      "metadata": {
        "id": "ce437676",
        "outputId": "3eea8d2b-b9ae-44cb-e3a6-b180067ee4dd"
      },
      "outputs": [
        {
          "data": {
            "text/plain": [
              "(49732, 17)"
            ]
          },
          "execution_count": 11,
          "metadata": {},
          "output_type": "execute_result"
        }
      ],
      "source": [
        "# To check the new dataframe is it merge or not we can use shape function to see rows and columns and we got 49732 rows and 17\n",
        "# columns. It means that both file has been marge.\n",
        "jbnk.shape "
      ]
    },
    {
      "cell_type": "code",
      "execution_count": null,
      "id": "8b1d0b31",
      "metadata": {
        "id": "8b1d0b31",
        "outputId": "c7ce6ea3-9d08-4a5b-cb1b-58295d837164"
      },
      "outputs": [
        {
          "name": "stdout",
          "output_type": "stream",
          "text": [
            "<class 'pandas.core.frame.DataFrame'>\n",
            "Int64Index: 49732 entries, 0 to 45210\n",
            "Data columns (total 17 columns):\n",
            " #   Column     Non-Null Count  Dtype \n",
            "---  ------     --------------  ----- \n",
            " 0   age        49732 non-null  int64 \n",
            " 1   job        49732 non-null  object\n",
            " 2   marital    49732 non-null  object\n",
            " 3   education  49732 non-null  object\n",
            " 4   default    49732 non-null  object\n",
            " 5   balance    49732 non-null  int64 \n",
            " 6   housing    49732 non-null  object\n",
            " 7   loan       49732 non-null  object\n",
            " 8   contact    49732 non-null  object\n",
            " 9   day        49732 non-null  int64 \n",
            " 10  month      49732 non-null  object\n",
            " 11  duration   49732 non-null  int64 \n",
            " 12  campaign   49732 non-null  int64 \n",
            " 13  pdays      49732 non-null  int64 \n",
            " 14  previous   49732 non-null  int64 \n",
            " 15  poutcome   49732 non-null  object\n",
            " 16  y          49732 non-null  object\n",
            "dtypes: int64(7), object(10)\n",
            "memory usage: 6.8+ MB\n"
          ]
        }
      ],
      "source": [
        "# After marge both files use info function to see more info about dataframe. Here we can see the total rows are 49732 but index\n",
        "# is not correct it's start 0 to 45210 but it should be 49732.\n",
        "jbnk.info()"
      ]
    },
    {
      "cell_type": "code",
      "execution_count": null,
      "id": "5a82f05c",
      "metadata": {
        "id": "5a82f05c"
      },
      "outputs": [],
      "source": [
        "# We need reset the index of dataframe to get it perfect indexing and save it into same variable.\n",
        "jbnk = jbnk.reset_index(drop=True)"
      ]
    },
    {
      "cell_type": "code",
      "execution_count": null,
      "id": "48471aee",
      "metadata": {
        "id": "48471aee",
        "outputId": "43ae75e3-e8a0-4525-b72f-add37ce5e57a"
      },
      "outputs": [
        {
          "name": "stdout",
          "output_type": "stream",
          "text": [
            "<class 'pandas.core.frame.DataFrame'>\n",
            "RangeIndex: 49732 entries, 0 to 49731\n",
            "Data columns (total 17 columns):\n",
            " #   Column     Non-Null Count  Dtype \n",
            "---  ------     --------------  ----- \n",
            " 0   age        49732 non-null  int64 \n",
            " 1   job        49732 non-null  object\n",
            " 2   marital    49732 non-null  object\n",
            " 3   education  49732 non-null  object\n",
            " 4   default    49732 non-null  object\n",
            " 5   balance    49732 non-null  int64 \n",
            " 6   housing    49732 non-null  object\n",
            " 7   loan       49732 non-null  object\n",
            " 8   contact    49732 non-null  object\n",
            " 9   day        49732 non-null  int64 \n",
            " 10  month      49732 non-null  object\n",
            " 11  duration   49732 non-null  int64 \n",
            " 12  campaign   49732 non-null  int64 \n",
            " 13  pdays      49732 non-null  int64 \n",
            " 14  previous   49732 non-null  int64 \n",
            " 15  poutcome   49732 non-null  object\n",
            " 16  y          49732 non-null  object\n",
            "dtypes: int64(7), object(10)\n",
            "memory usage: 6.5+ MB\n"
          ]
        }
      ],
      "source": [
        "# After reset the index we can check the dataframe with info function and we got it perfect indexing .\n",
        "jbnk.info()"
      ]
    },
    {
      "cell_type": "code",
      "execution_count": null,
      "id": "19878c48",
      "metadata": {
        "id": "19878c48"
      },
      "outputs": [],
      "source": [
        "# Do a copy of original dataframe. Because we don't want any change of in original dataframe.\n",
        "fbnk=jbnk.copy(deep=True)"
      ]
    },
    {
      "cell_type": "code",
      "execution_count": null,
      "id": "4046f813",
      "metadata": {
        "id": "4046f813",
        "outputId": "45bb9d1f-b9d2-49e5-a696-3f1cacd5ae85"
      },
      "outputs": [
        {
          "name": "stdout",
          "output_type": "stream",
          "text": [
            "<class 'pandas.core.frame.DataFrame'>\n",
            "RangeIndex: 49732 entries, 0 to 49731\n",
            "Data columns (total 17 columns):\n",
            " #   Column     Non-Null Count  Dtype \n",
            "---  ------     --------------  ----- \n",
            " 0   age        49732 non-null  int64 \n",
            " 1   job        49732 non-null  object\n",
            " 2   marital    49732 non-null  object\n",
            " 3   education  49732 non-null  object\n",
            " 4   default    49732 non-null  object\n",
            " 5   balance    49732 non-null  int64 \n",
            " 6   housing    49732 non-null  object\n",
            " 7   loan       49732 non-null  object\n",
            " 8   contact    49732 non-null  object\n",
            " 9   day        49732 non-null  int64 \n",
            " 10  month      49732 non-null  object\n",
            " 11  duration   49732 non-null  int64 \n",
            " 12  campaign   49732 non-null  int64 \n",
            " 13  pdays      49732 non-null  int64 \n",
            " 14  previous   49732 non-null  int64 \n",
            " 15  poutcome   49732 non-null  object\n",
            " 16  y          49732 non-null  object\n",
            "dtypes: int64(7), object(10)\n",
            "memory usage: 6.5+ MB\n"
          ]
        }
      ],
      "source": [
        "# Check the copy dataframe is it correct or not.\n",
        "fbnk.info()"
      ]
    },
    {
      "cell_type": "code",
      "execution_count": null,
      "id": "2af75a95",
      "metadata": {
        "id": "2af75a95",
        "outputId": "abb59cf1-46be-4c6e-cb06-1de97c953d48"
      },
      "outputs": [
        {
          "data": {
            "text/plain": [
              "Index(['age', 'job', 'marital', 'education', 'default', 'balance', 'housing',\n",
              "       'loan', 'contact', 'day', 'month', 'duration', 'campaign', 'pdays',\n",
              "       'previous', 'poutcome', 'y'],\n",
              "      dtype='object')"
            ]
          },
          "execution_count": 17,
          "metadata": {},
          "output_type": "execute_result"
        }
      ],
      "source": [
        "# Check all the columns in dataframe.\n",
        "fbnk.columns"
      ]
    },
    {
      "cell_type": "code",
      "execution_count": null,
      "id": "91e39740",
      "metadata": {
        "id": "91e39740"
      },
      "outputs": [],
      "source": [
        "# We must have to rename the columns name otherwise it's very difficult to understand.\n",
        "fbnk=fbnk.rename(columns={'default':'Credit_Default','balance':'Account_Balance','housing':'Housing_Loan','loan':'Personal_Loan'})"
      ]
    },
    {
      "cell_type": "code",
      "execution_count": null,
      "id": "3cab3b07",
      "metadata": {
        "id": "3cab3b07"
      },
      "outputs": [],
      "source": [
        "# We are going to rename maximum columns.\n",
        "fbnk=fbnk.rename(columns={'contact':'Contact_Number','day':'Last_Contact_Day','month':'Last_Contact_Month','duration':'Call_Duration'})"
      ]
    },
    {
      "cell_type": "code",
      "execution_count": null,
      "id": "538a4208",
      "metadata": {
        "id": "538a4208"
      },
      "outputs": [],
      "source": [
        "# We have more columns to rename it.\n",
        "fbnk=fbnk.rename(columns={'campaign':'Current_Campaign','pdays':'Gap_Days','previous':'Previous_Campaign','y':'Term_Deposit'})"
      ]
    },
    {
      "cell_type": "code",
      "execution_count": null,
      "id": "a4b07e89",
      "metadata": {
        "id": "a4b07e89"
      },
      "outputs": [],
      "source": [
        "#the We are allmost done with renaming the columns. \n",
        "fbnk=fbnk.rename(columns={'age':'Age','job':'Job','marital':'Marital_Status','poutcome':'Previous_Campaign_Result','education':'Educational_Qualification'})"
      ]
    },
    {
      "cell_type": "code",
      "execution_count": null,
      "id": "864b9967",
      "metadata": {
        "id": "864b9967",
        "outputId": "bfd3d9fe-85a0-4fb9-f6cd-09fead226aca"
      },
      "outputs": [
        {
          "data": {
            "text/plain": [
              "Index(['Age', 'Job', 'Marital_Status', 'Educational_Qualification',\n",
              "       'Credit_Default', 'Account_Balance', 'Housing_Loan', 'Personal_Loan',\n",
              "       'Contact_Number', 'Last_Contact_Day', 'Last_Contact_Month',\n",
              "       'Call_Duration', 'Current_Campaign', 'Gap_Days', 'Previous_Campaign',\n",
              "       'Previous_Campaign_Result', 'Term_Deposit'],\n",
              "      dtype='object')"
            ]
          },
          "execution_count": 22,
          "metadata": {},
          "output_type": "execute_result"
        }
      ],
      "source": [
        "# Now once again check the columns name in dataframe.\n",
        "fbnk.columns"
      ]
    },
    {
      "cell_type": "code",
      "execution_count": null,
      "id": "b6ba6b6e",
      "metadata": {
        "id": "b6ba6b6e",
        "outputId": "16cc30c8-5ff7-4feb-a913-5c3e12411592"
      },
      "outputs": [
        {
          "data": {
            "text/html": [
              "<div>\n",
              "<style scoped>\n",
              "    .dataframe tbody tr th:only-of-type {\n",
              "        vertical-align: middle;\n",
              "    }\n",
              "\n",
              "    .dataframe tbody tr th {\n",
              "        vertical-align: top;\n",
              "    }\n",
              "\n",
              "    .dataframe thead th {\n",
              "        text-align: right;\n",
              "    }\n",
              "</style>\n",
              "<table border=\"1\" class=\"dataframe\">\n",
              "  <thead>\n",
              "    <tr style=\"text-align: right;\">\n",
              "      <th></th>\n",
              "      <th>Age</th>\n",
              "      <th>Job</th>\n",
              "      <th>Marital_Status</th>\n",
              "      <th>Educational_Qualification</th>\n",
              "      <th>Credit_Default</th>\n",
              "      <th>Account_Balance</th>\n",
              "      <th>Housing_Loan</th>\n",
              "      <th>Personal_Loan</th>\n",
              "      <th>Contact_Number</th>\n",
              "      <th>Last_Contact_Day</th>\n",
              "      <th>Last_Contact_Month</th>\n",
              "      <th>Call_Duration</th>\n",
              "      <th>Current_Campaign</th>\n",
              "      <th>Gap_Days</th>\n",
              "      <th>Previous_Campaign</th>\n",
              "      <th>Previous_Campaign_Result</th>\n",
              "      <th>Term_Deposit</th>\n",
              "    </tr>\n",
              "  </thead>\n",
              "  <tbody>\n",
              "    <tr>\n",
              "      <th>0</th>\n",
              "      <td>30</td>\n",
              "      <td>unemployed</td>\n",
              "      <td>married</td>\n",
              "      <td>primary</td>\n",
              "      <td>no</td>\n",
              "      <td>1787</td>\n",
              "      <td>no</td>\n",
              "      <td>no</td>\n",
              "      <td>cellular</td>\n",
              "      <td>19</td>\n",
              "      <td>oct</td>\n",
              "      <td>79</td>\n",
              "      <td>1</td>\n",
              "      <td>-1</td>\n",
              "      <td>0</td>\n",
              "      <td>unknown</td>\n",
              "      <td>no</td>\n",
              "    </tr>\n",
              "    <tr>\n",
              "      <th>1</th>\n",
              "      <td>33</td>\n",
              "      <td>services</td>\n",
              "      <td>married</td>\n",
              "      <td>secondary</td>\n",
              "      <td>no</td>\n",
              "      <td>4789</td>\n",
              "      <td>yes</td>\n",
              "      <td>yes</td>\n",
              "      <td>cellular</td>\n",
              "      <td>11</td>\n",
              "      <td>may</td>\n",
              "      <td>220</td>\n",
              "      <td>1</td>\n",
              "      <td>339</td>\n",
              "      <td>4</td>\n",
              "      <td>failure</td>\n",
              "      <td>no</td>\n",
              "    </tr>\n",
              "    <tr>\n",
              "      <th>2</th>\n",
              "      <td>35</td>\n",
              "      <td>management</td>\n",
              "      <td>single</td>\n",
              "      <td>tertiary</td>\n",
              "      <td>no</td>\n",
              "      <td>1350</td>\n",
              "      <td>yes</td>\n",
              "      <td>no</td>\n",
              "      <td>cellular</td>\n",
              "      <td>16</td>\n",
              "      <td>apr</td>\n",
              "      <td>185</td>\n",
              "      <td>1</td>\n",
              "      <td>330</td>\n",
              "      <td>1</td>\n",
              "      <td>failure</td>\n",
              "      <td>no</td>\n",
              "    </tr>\n",
              "    <tr>\n",
              "      <th>3</th>\n",
              "      <td>30</td>\n",
              "      <td>management</td>\n",
              "      <td>married</td>\n",
              "      <td>tertiary</td>\n",
              "      <td>no</td>\n",
              "      <td>1476</td>\n",
              "      <td>yes</td>\n",
              "      <td>yes</td>\n",
              "      <td>unknown</td>\n",
              "      <td>3</td>\n",
              "      <td>jun</td>\n",
              "      <td>199</td>\n",
              "      <td>4</td>\n",
              "      <td>-1</td>\n",
              "      <td>0</td>\n",
              "      <td>unknown</td>\n",
              "      <td>no</td>\n",
              "    </tr>\n",
              "    <tr>\n",
              "      <th>4</th>\n",
              "      <td>59</td>\n",
              "      <td>blue-collar</td>\n",
              "      <td>married</td>\n",
              "      <td>secondary</td>\n",
              "      <td>no</td>\n",
              "      <td>0</td>\n",
              "      <td>yes</td>\n",
              "      <td>no</td>\n",
              "      <td>unknown</td>\n",
              "      <td>5</td>\n",
              "      <td>may</td>\n",
              "      <td>226</td>\n",
              "      <td>1</td>\n",
              "      <td>-1</td>\n",
              "      <td>0</td>\n",
              "      <td>unknown</td>\n",
              "      <td>no</td>\n",
              "    </tr>\n",
              "  </tbody>\n",
              "</table>\n",
              "</div>"
            ],
            "text/plain": [
              "   Age          Job Marital_Status Educational_Qualification Credit_Default  \\\n",
              "0   30   unemployed        married                   primary             no   \n",
              "1   33     services        married                 secondary             no   \n",
              "2   35   management         single                  tertiary             no   \n",
              "3   30   management        married                  tertiary             no   \n",
              "4   59  blue-collar        married                 secondary             no   \n",
              "\n",
              "   Account_Balance Housing_Loan Personal_Loan Contact_Number  \\\n",
              "0             1787           no            no       cellular   \n",
              "1             4789          yes           yes       cellular   \n",
              "2             1350          yes            no       cellular   \n",
              "3             1476          yes           yes        unknown   \n",
              "4                0          yes            no        unknown   \n",
              "\n",
              "   Last_Contact_Day Last_Contact_Month  Call_Duration  Current_Campaign  \\\n",
              "0                19                oct             79                 1   \n",
              "1                11                may            220                 1   \n",
              "2                16                apr            185                 1   \n",
              "3                 3                jun            199                 4   \n",
              "4                 5                may            226                 1   \n",
              "\n",
              "   Gap_Days  Previous_Campaign Previous_Campaign_Result Term_Deposit  \n",
              "0        -1                  0                  unknown           no  \n",
              "1       339                  4                  failure           no  \n",
              "2       330                  1                  failure           no  \n",
              "3        -1                  0                  unknown           no  \n",
              "4        -1                  0                  unknown           no  "
            ]
          },
          "execution_count": 23,
          "metadata": {},
          "output_type": "execute_result"
        }
      ],
      "source": [
        "# Just to check first five rows and all the columns.\n",
        "fbnk.head()"
      ]
    },
    {
      "cell_type": "code",
      "execution_count": null,
      "id": "86af8389",
      "metadata": {
        "id": "86af8389",
        "outputId": "4685bc11-1470-4046-e4ab-771ffd4894cc"
      },
      "outputs": [
        {
          "data": {
            "text/html": [
              "<div>\n",
              "<style scoped>\n",
              "    .dataframe tbody tr th:only-of-type {\n",
              "        vertical-align: middle;\n",
              "    }\n",
              "\n",
              "    .dataframe tbody tr th {\n",
              "        vertical-align: top;\n",
              "    }\n",
              "\n",
              "    .dataframe thead th {\n",
              "        text-align: right;\n",
              "    }\n",
              "</style>\n",
              "<table border=\"1\" class=\"dataframe\">\n",
              "  <thead>\n",
              "    <tr style=\"text-align: right;\">\n",
              "      <th></th>\n",
              "      <th>Age</th>\n",
              "      <th>Job</th>\n",
              "      <th>Marital_Status</th>\n",
              "      <th>Educational_Qualification</th>\n",
              "      <th>Credit_Default</th>\n",
              "      <th>Account_Balance</th>\n",
              "      <th>Housing_Loan</th>\n",
              "      <th>Personal_Loan</th>\n",
              "      <th>Contact_Number</th>\n",
              "      <th>Last_Contact_Day</th>\n",
              "      <th>Last_Contact_Month</th>\n",
              "      <th>Call_Duration</th>\n",
              "      <th>Current_Campaign</th>\n",
              "      <th>Gap_Days</th>\n",
              "      <th>Previous_Campaign</th>\n",
              "      <th>Previous_Campaign_Result</th>\n",
              "      <th>Term_Deposit</th>\n",
              "    </tr>\n",
              "  </thead>\n",
              "  <tbody>\n",
              "    <tr>\n",
              "      <th>49727</th>\n",
              "      <td>51</td>\n",
              "      <td>technician</td>\n",
              "      <td>married</td>\n",
              "      <td>tertiary</td>\n",
              "      <td>no</td>\n",
              "      <td>825</td>\n",
              "      <td>no</td>\n",
              "      <td>no</td>\n",
              "      <td>cellular</td>\n",
              "      <td>17</td>\n",
              "      <td>nov</td>\n",
              "      <td>977</td>\n",
              "      <td>3</td>\n",
              "      <td>-1</td>\n",
              "      <td>0</td>\n",
              "      <td>unknown</td>\n",
              "      <td>yes</td>\n",
              "    </tr>\n",
              "    <tr>\n",
              "      <th>49728</th>\n",
              "      <td>71</td>\n",
              "      <td>retired</td>\n",
              "      <td>divorced</td>\n",
              "      <td>primary</td>\n",
              "      <td>no</td>\n",
              "      <td>1729</td>\n",
              "      <td>no</td>\n",
              "      <td>no</td>\n",
              "      <td>cellular</td>\n",
              "      <td>17</td>\n",
              "      <td>nov</td>\n",
              "      <td>456</td>\n",
              "      <td>2</td>\n",
              "      <td>-1</td>\n",
              "      <td>0</td>\n",
              "      <td>unknown</td>\n",
              "      <td>yes</td>\n",
              "    </tr>\n",
              "    <tr>\n",
              "      <th>49729</th>\n",
              "      <td>72</td>\n",
              "      <td>retired</td>\n",
              "      <td>married</td>\n",
              "      <td>secondary</td>\n",
              "      <td>no</td>\n",
              "      <td>5715</td>\n",
              "      <td>no</td>\n",
              "      <td>no</td>\n",
              "      <td>cellular</td>\n",
              "      <td>17</td>\n",
              "      <td>nov</td>\n",
              "      <td>1127</td>\n",
              "      <td>5</td>\n",
              "      <td>184</td>\n",
              "      <td>3</td>\n",
              "      <td>success</td>\n",
              "      <td>yes</td>\n",
              "    </tr>\n",
              "    <tr>\n",
              "      <th>49730</th>\n",
              "      <td>57</td>\n",
              "      <td>blue-collar</td>\n",
              "      <td>married</td>\n",
              "      <td>secondary</td>\n",
              "      <td>no</td>\n",
              "      <td>668</td>\n",
              "      <td>no</td>\n",
              "      <td>no</td>\n",
              "      <td>telephone</td>\n",
              "      <td>17</td>\n",
              "      <td>nov</td>\n",
              "      <td>508</td>\n",
              "      <td>4</td>\n",
              "      <td>-1</td>\n",
              "      <td>0</td>\n",
              "      <td>unknown</td>\n",
              "      <td>no</td>\n",
              "    </tr>\n",
              "    <tr>\n",
              "      <th>49731</th>\n",
              "      <td>37</td>\n",
              "      <td>entrepreneur</td>\n",
              "      <td>married</td>\n",
              "      <td>secondary</td>\n",
              "      <td>no</td>\n",
              "      <td>2971</td>\n",
              "      <td>no</td>\n",
              "      <td>no</td>\n",
              "      <td>cellular</td>\n",
              "      <td>17</td>\n",
              "      <td>nov</td>\n",
              "      <td>361</td>\n",
              "      <td>2</td>\n",
              "      <td>188</td>\n",
              "      <td>11</td>\n",
              "      <td>other</td>\n",
              "      <td>no</td>\n",
              "    </tr>\n",
              "  </tbody>\n",
              "</table>\n",
              "</div>"
            ],
            "text/plain": [
              "       Age           Job Marital_Status Educational_Qualification  \\\n",
              "49727   51    technician        married                  tertiary   \n",
              "49728   71       retired       divorced                   primary   \n",
              "49729   72       retired        married                 secondary   \n",
              "49730   57   blue-collar        married                 secondary   \n",
              "49731   37  entrepreneur        married                 secondary   \n",
              "\n",
              "      Credit_Default  Account_Balance Housing_Loan Personal_Loan  \\\n",
              "49727             no              825           no            no   \n",
              "49728             no             1729           no            no   \n",
              "49729             no             5715           no            no   \n",
              "49730             no              668           no            no   \n",
              "49731             no             2971           no            no   \n",
              "\n",
              "      Contact_Number  Last_Contact_Day Last_Contact_Month  Call_Duration  \\\n",
              "49727       cellular                17                nov            977   \n",
              "49728       cellular                17                nov            456   \n",
              "49729       cellular                17                nov           1127   \n",
              "49730      telephone                17                nov            508   \n",
              "49731       cellular                17                nov            361   \n",
              "\n",
              "       Current_Campaign  Gap_Days  Previous_Campaign Previous_Campaign_Result  \\\n",
              "49727                 3        -1                  0                  unknown   \n",
              "49728                 2        -1                  0                  unknown   \n",
              "49729                 5       184                  3                  success   \n",
              "49730                 4        -1                  0                  unknown   \n",
              "49731                 2       188                 11                    other   \n",
              "\n",
              "      Term_Deposit  \n",
              "49727          yes  \n",
              "49728          yes  \n",
              "49729          yes  \n",
              "49730           no  \n",
              "49731           no  "
            ]
          },
          "execution_count": 24,
          "metadata": {},
          "output_type": "execute_result"
        }
      ],
      "source": [
        "# Just to check last five rows and all the columns.\n",
        "fbnk.tail()"
      ]
    },
    {
      "cell_type": "code",
      "execution_count": null,
      "id": "07fefaaf",
      "metadata": {
        "id": "07fefaaf",
        "outputId": "7c4c4450-d419-46de-b727-c7df09892bbb"
      },
      "outputs": [
        {
          "data": {
            "text/html": [
              "<div>\n",
              "<style scoped>\n",
              "    .dataframe tbody tr th:only-of-type {\n",
              "        vertical-align: middle;\n",
              "    }\n",
              "\n",
              "    .dataframe tbody tr th {\n",
              "        vertical-align: top;\n",
              "    }\n",
              "\n",
              "    .dataframe thead th {\n",
              "        text-align: right;\n",
              "    }\n",
              "</style>\n",
              "<table border=\"1\" class=\"dataframe\">\n",
              "  <thead>\n",
              "    <tr style=\"text-align: right;\">\n",
              "      <th></th>\n",
              "      <th>Age</th>\n",
              "      <th>Job</th>\n",
              "      <th>Marital_Status</th>\n",
              "      <th>Educational_Qualification</th>\n",
              "      <th>Credit_Default</th>\n",
              "      <th>Account_Balance</th>\n",
              "      <th>Housing_Loan</th>\n",
              "      <th>Personal_Loan</th>\n",
              "      <th>Contact_Number</th>\n",
              "      <th>Last_Contact_Day</th>\n",
              "      <th>Last_Contact_Month</th>\n",
              "      <th>Call_Duration</th>\n",
              "      <th>Current_Campaign</th>\n",
              "      <th>Gap_Days</th>\n",
              "      <th>Previous_Campaign</th>\n",
              "      <th>Previous_Campaign_Result</th>\n",
              "      <th>Term_Deposit</th>\n",
              "    </tr>\n",
              "  </thead>\n",
              "  <tbody>\n",
              "    <tr>\n",
              "      <th>0</th>\n",
              "      <td>False</td>\n",
              "      <td>False</td>\n",
              "      <td>False</td>\n",
              "      <td>False</td>\n",
              "      <td>False</td>\n",
              "      <td>False</td>\n",
              "      <td>False</td>\n",
              "      <td>False</td>\n",
              "      <td>False</td>\n",
              "      <td>False</td>\n",
              "      <td>False</td>\n",
              "      <td>False</td>\n",
              "      <td>False</td>\n",
              "      <td>False</td>\n",
              "      <td>False</td>\n",
              "      <td>False</td>\n",
              "      <td>False</td>\n",
              "    </tr>\n",
              "    <tr>\n",
              "      <th>1</th>\n",
              "      <td>False</td>\n",
              "      <td>False</td>\n",
              "      <td>False</td>\n",
              "      <td>False</td>\n",
              "      <td>False</td>\n",
              "      <td>False</td>\n",
              "      <td>False</td>\n",
              "      <td>False</td>\n",
              "      <td>False</td>\n",
              "      <td>False</td>\n",
              "      <td>False</td>\n",
              "      <td>False</td>\n",
              "      <td>False</td>\n",
              "      <td>False</td>\n",
              "      <td>False</td>\n",
              "      <td>False</td>\n",
              "      <td>False</td>\n",
              "    </tr>\n",
              "    <tr>\n",
              "      <th>2</th>\n",
              "      <td>False</td>\n",
              "      <td>False</td>\n",
              "      <td>False</td>\n",
              "      <td>False</td>\n",
              "      <td>False</td>\n",
              "      <td>False</td>\n",
              "      <td>False</td>\n",
              "      <td>False</td>\n",
              "      <td>False</td>\n",
              "      <td>False</td>\n",
              "      <td>False</td>\n",
              "      <td>False</td>\n",
              "      <td>False</td>\n",
              "      <td>False</td>\n",
              "      <td>False</td>\n",
              "      <td>False</td>\n",
              "      <td>False</td>\n",
              "    </tr>\n",
              "    <tr>\n",
              "      <th>3</th>\n",
              "      <td>False</td>\n",
              "      <td>False</td>\n",
              "      <td>False</td>\n",
              "      <td>False</td>\n",
              "      <td>False</td>\n",
              "      <td>False</td>\n",
              "      <td>False</td>\n",
              "      <td>False</td>\n",
              "      <td>False</td>\n",
              "      <td>False</td>\n",
              "      <td>False</td>\n",
              "      <td>False</td>\n",
              "      <td>False</td>\n",
              "      <td>False</td>\n",
              "      <td>False</td>\n",
              "      <td>False</td>\n",
              "      <td>False</td>\n",
              "    </tr>\n",
              "    <tr>\n",
              "      <th>4</th>\n",
              "      <td>False</td>\n",
              "      <td>False</td>\n",
              "      <td>False</td>\n",
              "      <td>False</td>\n",
              "      <td>False</td>\n",
              "      <td>False</td>\n",
              "      <td>False</td>\n",
              "      <td>False</td>\n",
              "      <td>False</td>\n",
              "      <td>False</td>\n",
              "      <td>False</td>\n",
              "      <td>False</td>\n",
              "      <td>False</td>\n",
              "      <td>False</td>\n",
              "      <td>False</td>\n",
              "      <td>False</td>\n",
              "      <td>False</td>\n",
              "    </tr>\n",
              "    <tr>\n",
              "      <th>...</th>\n",
              "      <td>...</td>\n",
              "      <td>...</td>\n",
              "      <td>...</td>\n",
              "      <td>...</td>\n",
              "      <td>...</td>\n",
              "      <td>...</td>\n",
              "      <td>...</td>\n",
              "      <td>...</td>\n",
              "      <td>...</td>\n",
              "      <td>...</td>\n",
              "      <td>...</td>\n",
              "      <td>...</td>\n",
              "      <td>...</td>\n",
              "      <td>...</td>\n",
              "      <td>...</td>\n",
              "      <td>...</td>\n",
              "      <td>...</td>\n",
              "    </tr>\n",
              "    <tr>\n",
              "      <th>49727</th>\n",
              "      <td>False</td>\n",
              "      <td>False</td>\n",
              "      <td>False</td>\n",
              "      <td>False</td>\n",
              "      <td>False</td>\n",
              "      <td>False</td>\n",
              "      <td>False</td>\n",
              "      <td>False</td>\n",
              "      <td>False</td>\n",
              "      <td>False</td>\n",
              "      <td>False</td>\n",
              "      <td>False</td>\n",
              "      <td>False</td>\n",
              "      <td>False</td>\n",
              "      <td>False</td>\n",
              "      <td>False</td>\n",
              "      <td>False</td>\n",
              "    </tr>\n",
              "    <tr>\n",
              "      <th>49728</th>\n",
              "      <td>False</td>\n",
              "      <td>False</td>\n",
              "      <td>False</td>\n",
              "      <td>False</td>\n",
              "      <td>False</td>\n",
              "      <td>False</td>\n",
              "      <td>False</td>\n",
              "      <td>False</td>\n",
              "      <td>False</td>\n",
              "      <td>False</td>\n",
              "      <td>False</td>\n",
              "      <td>False</td>\n",
              "      <td>False</td>\n",
              "      <td>False</td>\n",
              "      <td>False</td>\n",
              "      <td>False</td>\n",
              "      <td>False</td>\n",
              "    </tr>\n",
              "    <tr>\n",
              "      <th>49729</th>\n",
              "      <td>False</td>\n",
              "      <td>False</td>\n",
              "      <td>False</td>\n",
              "      <td>False</td>\n",
              "      <td>False</td>\n",
              "      <td>False</td>\n",
              "      <td>False</td>\n",
              "      <td>False</td>\n",
              "      <td>False</td>\n",
              "      <td>False</td>\n",
              "      <td>False</td>\n",
              "      <td>False</td>\n",
              "      <td>False</td>\n",
              "      <td>False</td>\n",
              "      <td>False</td>\n",
              "      <td>False</td>\n",
              "      <td>False</td>\n",
              "    </tr>\n",
              "    <tr>\n",
              "      <th>49730</th>\n",
              "      <td>False</td>\n",
              "      <td>False</td>\n",
              "      <td>False</td>\n",
              "      <td>False</td>\n",
              "      <td>False</td>\n",
              "      <td>False</td>\n",
              "      <td>False</td>\n",
              "      <td>False</td>\n",
              "      <td>False</td>\n",
              "      <td>False</td>\n",
              "      <td>False</td>\n",
              "      <td>False</td>\n",
              "      <td>False</td>\n",
              "      <td>False</td>\n",
              "      <td>False</td>\n",
              "      <td>False</td>\n",
              "      <td>False</td>\n",
              "    </tr>\n",
              "    <tr>\n",
              "      <th>49731</th>\n",
              "      <td>False</td>\n",
              "      <td>False</td>\n",
              "      <td>False</td>\n",
              "      <td>False</td>\n",
              "      <td>False</td>\n",
              "      <td>False</td>\n",
              "      <td>False</td>\n",
              "      <td>False</td>\n",
              "      <td>False</td>\n",
              "      <td>False</td>\n",
              "      <td>False</td>\n",
              "      <td>False</td>\n",
              "      <td>False</td>\n",
              "      <td>False</td>\n",
              "      <td>False</td>\n",
              "      <td>False</td>\n",
              "      <td>False</td>\n",
              "    </tr>\n",
              "  </tbody>\n",
              "</table>\n",
              "<p>49732 rows × 17 columns</p>\n",
              "</div>"
            ],
            "text/plain": [
              "         Age    Job  Marital_Status  Educational_Qualification  \\\n",
              "0      False  False           False                      False   \n",
              "1      False  False           False                      False   \n",
              "2      False  False           False                      False   \n",
              "3      False  False           False                      False   \n",
              "4      False  False           False                      False   \n",
              "...      ...    ...             ...                        ...   \n",
              "49727  False  False           False                      False   \n",
              "49728  False  False           False                      False   \n",
              "49729  False  False           False                      False   \n",
              "49730  False  False           False                      False   \n",
              "49731  False  False           False                      False   \n",
              "\n",
              "       Credit_Default  Account_Balance  Housing_Loan  Personal_Loan  \\\n",
              "0               False            False         False          False   \n",
              "1               False            False         False          False   \n",
              "2               False            False         False          False   \n",
              "3               False            False         False          False   \n",
              "4               False            False         False          False   \n",
              "...               ...              ...           ...            ...   \n",
              "49727           False            False         False          False   \n",
              "49728           False            False         False          False   \n",
              "49729           False            False         False          False   \n",
              "49730           False            False         False          False   \n",
              "49731           False            False         False          False   \n",
              "\n",
              "       Contact_Number  Last_Contact_Day  Last_Contact_Month  Call_Duration  \\\n",
              "0               False             False               False          False   \n",
              "1               False             False               False          False   \n",
              "2               False             False               False          False   \n",
              "3               False             False               False          False   \n",
              "4               False             False               False          False   \n",
              "...               ...               ...                 ...            ...   \n",
              "49727           False             False               False          False   \n",
              "49728           False             False               False          False   \n",
              "49729           False             False               False          False   \n",
              "49730           False             False               False          False   \n",
              "49731           False             False               False          False   \n",
              "\n",
              "       Current_Campaign  Gap_Days  Previous_Campaign  \\\n",
              "0                 False     False              False   \n",
              "1                 False     False              False   \n",
              "2                 False     False              False   \n",
              "3                 False     False              False   \n",
              "4                 False     False              False   \n",
              "...                 ...       ...                ...   \n",
              "49727             False     False              False   \n",
              "49728             False     False              False   \n",
              "49729             False     False              False   \n",
              "49730             False     False              False   \n",
              "49731             False     False              False   \n",
              "\n",
              "       Previous_Campaign_Result  Term_Deposit  \n",
              "0                         False         False  \n",
              "1                         False         False  \n",
              "2                         False         False  \n",
              "3                         False         False  \n",
              "4                         False         False  \n",
              "...                         ...           ...  \n",
              "49727                     False         False  \n",
              "49728                     False         False  \n",
              "49729                     False         False  \n",
              "49730                     False         False  \n",
              "49731                     False         False  \n",
              "\n",
              "[49732 rows x 17 columns]"
            ]
          },
          "execution_count": 25,
          "metadata": {},
          "output_type": "execute_result"
        }
      ],
      "source": [
        "# To check any null value in dataframe use isnull function and it will show in boolean True and False. True means there are \n",
        "# some null values and False means there are no null value.\n",
        "fbnk.isnull()"
      ]
    },
    {
      "cell_type": "code",
      "execution_count": null,
      "id": "6c52bc3f",
      "metadata": {
        "id": "6c52bc3f",
        "outputId": "cbedceb6-2e88-4272-be5a-c2e077c8d533"
      },
      "outputs": [
        {
          "data": {
            "text/plain": [
              "Age                          0\n",
              "Job                          0\n",
              "Marital_Status               0\n",
              "Educational_Qualification    0\n",
              "Credit_Default               0\n",
              "Account_Balance              0\n",
              "Housing_Loan                 0\n",
              "Personal_Loan                0\n",
              "Contact_Number               0\n",
              "Last_Contact_Day             0\n",
              "Last_Contact_Month           0\n",
              "Call_Duration                0\n",
              "Current_Campaign             0\n",
              "Gap_Days                     0\n",
              "Previous_Campaign            0\n",
              "Previous_Campaign_Result     0\n",
              "Term_Deposit                 0\n",
              "dtype: int64"
            ]
          },
          "execution_count": 26,
          "metadata": {},
          "output_type": "execute_result"
        }
      ],
      "source": [
        "# We can use .sum() function to aggregate the null value in each columns. We can't find any null value in dataframe.\n",
        "fbnk.isnull().sum()"
      ]
    },
    {
      "cell_type": "code",
      "execution_count": null,
      "id": "16d7e87c",
      "metadata": {
        "id": "16d7e87c",
        "outputId": "35d671d9-117b-4712-c3e2-47975e2f10b7"
      },
      "outputs": [
        {
          "data": {
            "text/plain": [
              "array([30, 33, 35, 59, 36, 39, 41, 43, 20, 31, 40, 56, 37, 25, 38, 42, 44,\n",
              "       26, 55, 67, 53, 68, 32, 49, 78, 23, 52, 34, 61, 45, 48, 57, 54, 63,\n",
              "       51, 29, 50, 27, 60, 28, 21, 58, 22, 46, 24, 77, 75, 47, 70, 65, 64,\n",
              "       62, 66, 19, 81, 83, 80, 71, 72, 69, 79, 73, 86, 74, 76, 87, 84, 85,\n",
              "       90, 82, 94, 95, 18, 89, 92, 93, 88], dtype=int64)"
            ]
          },
          "execution_count": 27,
          "metadata": {},
          "output_type": "execute_result"
        }
      ],
      "source": [
        "# Now we have to check the unique values in each columns. In Age column we have all the different values.\n",
        "fbnk['Age'].unique()"
      ]
    },
    {
      "cell_type": "code",
      "execution_count": null,
      "id": "447f90a0",
      "metadata": {
        "id": "447f90a0",
        "outputId": "1334aff1-9a43-4471-fb95-78009fa14d17"
      },
      "outputs": [
        {
          "data": {
            "text/plain": [
              "array(['unemployed', 'services', 'management', 'blue-collar',\n",
              "       'self-employed', 'technician', 'entrepreneur', 'admin.', 'student',\n",
              "       'housemaid', 'retired', 'unknown'], dtype=object)"
            ]
          },
          "execution_count": 28,
          "metadata": {},
          "output_type": "execute_result"
        }
      ],
      "source": [
        "# We found 12 types of categorical jobs in Job column. Also we have 'unknown' means that we don't know the job title of that \n",
        "# particular customers.\n",
        "fbnk['Job'].unique()"
      ]
    },
    {
      "cell_type": "code",
      "execution_count": null,
      "id": "878b81e3",
      "metadata": {
        "id": "878b81e3",
        "outputId": "072c19d8-a256-496d-95b5-bc885f80ce08"
      },
      "outputs": [
        {
          "data": {
            "text/plain": [
              "array(['married', 'single', 'divorced'], dtype=object)"
            ]
          },
          "execution_count": 29,
          "metadata": {},
          "output_type": "execute_result"
        }
      ],
      "source": [
        "# In this Marital_Status columns we found three type of object.\n",
        "fbnk['Marital_Status'].unique()"
      ]
    },
    {
      "cell_type": "code",
      "execution_count": null,
      "id": "1406c590",
      "metadata": {
        "id": "1406c590",
        "outputId": "2e3795c6-f99d-431a-f617-dd2b33bd8f78"
      },
      "outputs": [
        {
          "data": {
            "text/plain": [
              "array(['primary', 'secondary', 'tertiary', 'unknown'], dtype=object)"
            ]
          },
          "execution_count": 30,
          "metadata": {},
          "output_type": "execute_result"
        }
      ],
      "source": [
        "# In Educational_Qualification columns we found three types of object and other unknown. And we don't know the education \n",
        "# qualification of particular customer who have unknown types.\n",
        "fbnk['Educational_Qualification'].unique()"
      ]
    },
    {
      "cell_type": "code",
      "execution_count": null,
      "id": "7d69404d",
      "metadata": {
        "id": "7d69404d",
        "outputId": "c6906923-cb60-4eb7-a85b-79fa28f46b89"
      },
      "outputs": [
        {
          "data": {
            "text/plain": [
              "array(['no', 'yes'], dtype=object)"
            ]
          },
          "execution_count": 31,
          "metadata": {},
          "output_type": "execute_result"
        }
      ],
      "source": [
        "# In this columns we found two types of object.\n",
        "fbnk['Credit_Default'].unique()"
      ]
    },
    {
      "cell_type": "code",
      "execution_count": null,
      "id": "a10825cb",
      "metadata": {
        "id": "a10825cb",
        "outputId": "6e840225-09a6-4e01-ad59-bc99400cfca3"
      },
      "outputs": [
        {
          "data": {
            "text/plain": [
              "array(['no', 'yes'], dtype=object)"
            ]
          },
          "execution_count": 32,
          "metadata": {},
          "output_type": "execute_result"
        }
      ],
      "source": [
        "# In this columns we found two types of object.\n",
        "fbnk['Housing_Loan'].unique()"
      ]
    },
    {
      "cell_type": "code",
      "execution_count": null,
      "id": "0faeaa81",
      "metadata": {
        "id": "0faeaa81",
        "outputId": "6200baa7-d518-4e55-c03a-5a0210701f01"
      },
      "outputs": [
        {
          "data": {
            "text/plain": [
              "array(['no', 'yes'], dtype=object)"
            ]
          },
          "execution_count": 33,
          "metadata": {},
          "output_type": "execute_result"
        }
      ],
      "source": [
        "# In this columns we found two types of object.\n",
        "fbnk['Personal_Loan'].unique()"
      ]
    },
    {
      "cell_type": "code",
      "execution_count": null,
      "id": "6ab5f0be",
      "metadata": {
        "id": "6ab5f0be",
        "outputId": "be708b0b-9c4d-46d5-ee86-909c296e0934"
      },
      "outputs": [
        {
          "data": {
            "text/plain": [
              "array(['cellular', 'unknown', 'telephone'], dtype=object)"
            ]
          },
          "execution_count": 34,
          "metadata": {},
          "output_type": "execute_result"
        }
      ],
      "source": [
        "# In this columns we found three types of object. Here unknown means we don't know what kind of contacts customer have.\n",
        "fbnk['Contact_Number'].unique()"
      ]
    },
    {
      "cell_type": "code",
      "execution_count": null,
      "id": "438b22d1",
      "metadata": {
        "id": "438b22d1",
        "outputId": "10fb63fd-ae79-49e6-bf79-4693adebca06"
      },
      "outputs": [
        {
          "data": {
            "text/plain": [
              "array([19, 11, 16,  3,  5, 23, 14,  6, 17, 20, 13, 30, 29, 27,  7, 18, 12,\n",
              "       21, 26, 22,  2,  4, 15,  8, 28,  9,  1, 10, 31, 25, 24],\n",
              "      dtype=int64)"
            ]
          },
          "execution_count": 35,
          "metadata": {},
          "output_type": "execute_result"
        }
      ],
      "source": [
        "# In this columns we found some objects.\n",
        "fbnk['Last_Contact_Day'].unique()"
      ]
    },
    {
      "cell_type": "code",
      "execution_count": null,
      "id": "a0f9bfc8",
      "metadata": {
        "id": "a0f9bfc8",
        "outputId": "5646ec60-f370-4486-a525-3fc83deccf73"
      },
      "outputs": [
        {
          "data": {
            "text/plain": [
              "array(['oct', 'may', 'apr', 'jun', 'feb', 'aug', 'jan', 'jul', 'nov',\n",
              "       'sep', 'mar', 'dec'], dtype=object)"
            ]
          },
          "execution_count": 36,
          "metadata": {},
          "output_type": "execute_result"
        }
      ],
      "source": [
        "# In this columns we found some objects.\n",
        "fbnk['Last_Contact_Month'].unique()"
      ]
    },
    {
      "cell_type": "code",
      "execution_count": null,
      "id": "145de766",
      "metadata": {
        "id": "145de766",
        "outputId": "2ea33490-3385-446e-e4cc-eb02ea733c67"
      },
      "outputs": [
        {
          "data": {
            "text/plain": [
              "array([ 1,  4,  2,  5,  3,  6, 18, 10,  9,  7, 12, 14, 13, 24, 11,  8, 29,\n",
              "       32, 16, 22, 15, 30, 25, 21, 17, 19, 23, 20, 50, 28, 31, 44, 43, 51,\n",
              "       63, 41, 26, 55, 38, 37, 46, 27, 58, 33, 35, 34, 36, 39],\n",
              "      dtype=int64)"
            ]
          },
          "execution_count": 37,
          "metadata": {},
          "output_type": "execute_result"
        }
      ],
      "source": [
        "# In this columns we found some objects.\n",
        "fbnk['Current_Campaign'].unique()"
      ]
    },
    {
      "cell_type": "code",
      "execution_count": null,
      "id": "781a2d57",
      "metadata": {
        "id": "781a2d57",
        "outputId": "57788c52-c449-403d-ee7f-4eab77d74024"
      },
      "outputs": [
        {
          "data": {
            "text/plain": [
              "array([ -1, 339, 330, 176, 147, 241, 152, 105, 342, 101,   5,  92,  56,\n",
              "       170, 182, 297, 196, 460, 137, 367, 145, 169, 207, 266, 288, 168,\n",
              "       345, 436,  90, 183, 146, 335, 347, 119,   7, 271, 181,  88, 141,\n",
              "       126,  61, 373, 351, 242,  62,  91, 308, 250, 172, 265,  78,  28,\n",
              "        79,   1, 188, 167,  89, 164, 462, 209, 321, 254,  94, 364,  96,\n",
              "       356, 149, 363, 275, 325, 341, 260, 358,  87, 303,  98, 327, 337,\n",
              "       322, 102,  99, 370,  84, 212,  63,  81, 191, 360, 332,  80,  85,\n",
              "       247, 150, 175, 382, 261, 336,  58, 206, 112, 199, 133, 208, 253,\n",
              "       135, 278, 140, 298, 273, 124, 281, 162, 323, 349, 117,   2, 256,\n",
              "       333, 116, 268, 136, 198, 357, 259, 353, 174, 371, 205, 246,  69,\n",
              "       315, 110, 461, 184, 270, 127, 187,  64, 130, 346, 100, 352, 808,\n",
              "       113, 378, 292, 287, 107, 293, 139, 138, 193, 274,  97, 103, 359,\n",
              "       185, 674, 211, 300, 334, 280, 479,  95, 262, 362, 225,   3, 366,\n",
              "        60, 190, 368, 122, 343, 131, 365, 299, 115, 316, 180, 154, 313,\n",
              "       264, 350,  73, 232, 204, 143, 375, 186, 344, 210, 248, 177, 221,\n",
              "       189, 104, 258, 305, 171, 120, 317, 178, 386, 118, 404, 374, 282,\n",
              "       179, 284, 227, 291, 173, 871, 238, 294, 222, 435, 340, 426, 239,\n",
              "        83, 111, 415, 255, 235, 244,  38, 683, 329,  59, 151, 192, 158,\n",
              "       338, 388, 165, 348, 197, 295, 109, 484, 326, 369, 397, 414, 319,\n",
              "       474,  93, 249, 272, 355, 195,  82, 541, 231, 153, 201, 761, 114,\n",
              "       385, 267, 161, 467,  75, 106, 223, 312, 148, 309, 283,  86, 166,\n",
              "       160, 450, 500, 311, 123, 159, 687, 224, 361,  74,  76, 286,  77,\n",
              "        57, 219, 331, 804, 144, 234, 129, 132, 194, 125,  26, 155, 134,\n",
              "         8,  10, 156, 128, 121,  27, 157,  30, 163,  34,  31, 108,  29,\n",
              "       226, 245, 230,  71, 240, 251, 237, 220, 228, 263, 252, 200, 269,\n",
              "       233, 214, 203, 202, 216, 257, 229, 217, 213, 215, 236,   6, 243,\n",
              "       276,   9, 279,  12, 277,  24,  21,  41,  49, 307, 314, 302, 318,\n",
              "       328,  39, 310, 306, 320, 289, 142, 301,  17, 324, 304,  14,  15,\n",
              "       285,  25,   4,  70,  13,  37,  22, 296,  66,  19,  35, 354,  47,\n",
              "        42, 290,  67,  50,  36, 372, 379,  40,  18,  43,  20,  55,  44,\n",
              "       391,  72, 390,  32, 399, 393,  65, 377, 395, 389, 412, 405, 434,\n",
              "       394, 459, 440, 383,  68, 463, 422,  51, 457, 430, 442, 403, 454,\n",
              "       428, 392, 410, 401, 475, 477, 478,  54, 476, 380,  45,  46, 495,\n",
              "        48, 518,  52, 515, 520, 511, 536, 387, 218,  33, 544, 555, 433,\n",
              "       446, 558, 469, 616, 561, 553, 384, 592, 585, 480, 421, 667, 626,\n",
              "       595, 381, 376, 648, 521, 452, 449, 633, 398,  53, 670, 551, 557,\n",
              "       651, 686, 425, 504, 578, 416, 586, 411, 756, 745, 514, 417, 424,\n",
              "       776, 396, 529, 439, 456, 407, 458, 532, 481, 791, 701, 531, 792,\n",
              "       413, 445, 535, 784, 419, 455, 491, 431, 542, 470, 472, 717, 437,\n",
              "       782, 728, 828, 524, 562, 492, 775, 579, 493, 464, 760, 466, 465,\n",
              "       656, 831, 490, 432, 655, 427, 749, 838, 769, 587, 778, 854, 779,\n",
              "       850, 771, 594, 842, 589, 603, 489, 486, 409, 444, 680, 485, 503,\n",
              "       690, 772, 774, 526, 420, 528, 826, 508, 547, 805, 543, 550, 530],\n",
              "      dtype=int64)"
            ]
          },
          "execution_count": 38,
          "metadata": {},
          "output_type": "execute_result"
        }
      ],
      "source": [
        "# In this columns we found lots of objects.\n",
        "fbnk['Gap_Days'].unique()"
      ]
    },
    {
      "cell_type": "code",
      "execution_count": null,
      "id": "334bff6f",
      "metadata": {
        "id": "334bff6f",
        "outputId": "a50514f0-e128-48db-b71d-ae3375742826"
      },
      "outputs": [
        {
          "data": {
            "text/plain": [
              "array([  0,   4,   1,   3,   2,   5,  20,   7,   6,  10,   9,   8,  18,\n",
              "        19,  12,  13,  11,  14,  15,  24,  17,  22,  23,  25,  16,  21,\n",
              "        26,  37,  27,  38,  29,  51, 275,  30,  58,  28,  32,  40,  55,\n",
              "        35,  41], dtype=int64)"
            ]
          },
          "execution_count": 39,
          "metadata": {},
          "output_type": "execute_result"
        }
      ],
      "source": [
        "# In this columns we found some objects.\n",
        "fbnk['Previous_Campaign'].unique()"
      ]
    },
    {
      "cell_type": "code",
      "execution_count": null,
      "id": "27a200a4",
      "metadata": {
        "id": "27a200a4",
        "outputId": "d7a4a5f6-21e3-4662-bdcd-afe13bea6220"
      },
      "outputs": [
        {
          "data": {
            "text/plain": [
              "array(['unknown', 'failure', 'other', 'success'], dtype=object)"
            ]
          },
          "execution_count": 40,
          "metadata": {},
          "output_type": "execute_result"
        }
      ],
      "source": [
        "# In this columns we found four objects and here unknow means we don't know the previous campaign result.\n",
        "fbnk['Previous_Campaign_Result'].unique()"
      ]
    },
    {
      "cell_type": "code",
      "execution_count": null,
      "id": "9e442994",
      "metadata": {
        "id": "9e442994",
        "outputId": "d773fcaf-30fe-4a56-8a8f-988877cb145a"
      },
      "outputs": [
        {
          "data": {
            "text/plain": [
              "array(['no', 'yes'], dtype=object)"
            ]
          },
          "execution_count": 41,
          "metadata": {},
          "output_type": "execute_result"
        }
      ],
      "source": [
        "# We found two type of object in this columns.\n",
        "fbnk['Term_Deposit'].unique()"
      ]
    },
    {
      "cell_type": "code",
      "execution_count": null,
      "id": "09bfb5b0",
      "metadata": {
        "id": "09bfb5b0",
        "outputId": "1bf305a5-8e03-43d7-8f8e-c3dad3fc996b"
      },
      "outputs": [
        {
          "data": {
            "text/plain": [
              "Age                            77\n",
              "Job                            12\n",
              "Marital_Status                  3\n",
              "Educational_Qualification       4\n",
              "Credit_Default                  2\n",
              "Account_Balance              7168\n",
              "Housing_Loan                    2\n",
              "Personal_Loan                   2\n",
              "Contact_Number                  3\n",
              "Last_Contact_Day               31\n",
              "Last_Contact_Month             12\n",
              "Call_Duration                1573\n",
              "Current_Campaign               48\n",
              "Gap_Days                      559\n",
              "Previous_Campaign              41\n",
              "Previous_Campaign_Result        4\n",
              "Term_Deposit                    2\n",
              "dtype: int64"
            ]
          },
          "execution_count": 42,
          "metadata": {},
          "output_type": "execute_result"
        }
      ],
      "source": [
        "# We can use nunique function to see in which columns how many unique values we have.\n",
        "fbnk.nunique()"
      ]
    },
    {
      "cell_type": "code",
      "execution_count": null,
      "id": "ca5e6282",
      "metadata": {
        "id": "ca5e6282",
        "outputId": "24b7a48e-1ec3-4b31-eef3-e6d0a8d6ecfc"
      },
      "outputs": [
        {
          "data": {
            "text/plain": [
              "Age                           int64\n",
              "Job                          object\n",
              "Marital_Status               object\n",
              "Educational_Qualification    object\n",
              "Credit_Default               object\n",
              "Account_Balance               int64\n",
              "Housing_Loan                 object\n",
              "Personal_Loan                object\n",
              "Contact_Number               object\n",
              "Last_Contact_Day              int64\n",
              "Last_Contact_Month           object\n",
              "Call_Duration                 int64\n",
              "Current_Campaign              int64\n",
              "Gap_Days                      int64\n",
              "Previous_Campaign             int64\n",
              "Previous_Campaign_Result     object\n",
              "Term_Deposit                 object\n",
              "dtype: object"
            ]
          },
          "execution_count": 43,
          "metadata": {},
          "output_type": "execute_result"
        }
      ],
      "source": [
        "# To check the data types in each columns we can use dtypes function.\n",
        "fbnk.dtypes"
      ]
    },
    {
      "cell_type": "code",
      "execution_count": null,
      "id": "47a335b0",
      "metadata": {
        "id": "47a335b0"
      },
      "outputs": [],
      "source": [
        "# We need to change the data types of some columns. Age, Account_Balance,Last_Contact_Day,Call_Duration and Gap_Days should\n",
        "# be continus data type.\n",
        "fbnk=fbnk.astype({'Age':'Float64','Account_Balance':'Float64','Last_Contact_Day':'Float64','Call_Duration':'Float64','Gap_Days':'Float64'})"
      ]
    },
    {
      "cell_type": "code",
      "execution_count": null,
      "id": "50a90293",
      "metadata": {
        "id": "50a90293",
        "outputId": "6090f52d-3a7a-44d2-b6b1-7c31a4e17041"
      },
      "outputs": [
        {
          "data": {
            "text/plain": [
              "Age                          Float64\n",
              "Job                           object\n",
              "Marital_Status                object\n",
              "Educational_Qualification     object\n",
              "Credit_Default                object\n",
              "Account_Balance              Float64\n",
              "Housing_Loan                  object\n",
              "Personal_Loan                 object\n",
              "Contact_Number                object\n",
              "Last_Contact_Day             Float64\n",
              "Last_Contact_Month            object\n",
              "Call_Duration                Float64\n",
              "Current_Campaign               int64\n",
              "Gap_Days                     Float64\n",
              "Previous_Campaign              int64\n",
              "Previous_Campaign_Result      object\n",
              "Term_Deposit                  object\n",
              "dtype: object"
            ]
          },
          "execution_count": 45,
          "metadata": {},
          "output_type": "execute_result"
        }
      ],
      "source": [
        "# Now once again check the data types how it's appear.\n",
        "fbnk.dtypes"
      ]
    },
    {
      "cell_type": "code",
      "execution_count": null,
      "id": "0b8f9492",
      "metadata": {
        "id": "0b8f9492"
      },
      "outputs": [],
      "source": [
        "# Now we need to drop the duplicate value.\n",
        "fbnk.drop_duplicates(inplace=True)"
      ]
    },
    {
      "cell_type": "code",
      "execution_count": null,
      "id": "4b783161",
      "metadata": {
        "id": "4b783161"
      },
      "outputs": [],
      "source": [
        "# To replace unwanted and wronge value to nan we use np.nan and regular expressions\n",
        "fbnk = fbnk.replace('\\.+', np.nan, regex=True) "
      ]
    },
    {
      "cell_type": "code",
      "execution_count": null,
      "id": "2b052b6f",
      "metadata": {
        "id": "2b052b6f",
        "outputId": "7d417e68-0ee2-4335-c61c-ceb89fdba314"
      },
      "outputs": [
        {
          "data": {
            "text/plain": [
              "Age                             0\n",
              "Job                          5171\n",
              "Marital_Status                  0\n",
              "Educational_Qualification       0\n",
              "Credit_Default                  0\n",
              "Account_Balance                 0\n",
              "Housing_Loan                    0\n",
              "Personal_Loan                   0\n",
              "Contact_Number                  0\n",
              "Last_Contact_Day                0\n",
              "Last_Contact_Month              0\n",
              "Call_Duration                   0\n",
              "Current_Campaign                0\n",
              "Gap_Days                        0\n",
              "Previous_Campaign               0\n",
              "Previous_Campaign_Result        0\n",
              "Term_Deposit                    0\n",
              "dtype: int64"
            ]
          },
          "execution_count": 48,
          "metadata": {},
          "output_type": "execute_result"
        }
      ],
      "source": [
        "# Now check if we have any null value. Now we see in Job columns there 5171 null values because in one object 'admin.' there\n",
        "# is a '.' with admin that's why it's convert in null value.\n",
        "fbnk.isnull().sum()"
      ]
    },
    {
      "cell_type": "code",
      "execution_count": null,
      "id": "c1914d3d",
      "metadata": {
        "id": "c1914d3d",
        "outputId": "47868771-2091-4927-d34f-8007623e2194"
      },
      "outputs": [
        {
          "data": {
            "text/plain": [
              "array(['unemployed', 'services', 'management', 'blue-collar',\n",
              "       'self-employed', 'technician', 'entrepreneur', nan, 'student',\n",
              "       'housemaid', 'retired', 'unknown'], dtype=object)"
            ]
          },
          "execution_count": 49,
          "metadata": {},
          "output_type": "execute_result"
        }
      ],
      "source": [
        "# Just to check the null values are present in Job column.\n",
        "fbnk['Job'].unique()"
      ]
    },
    {
      "cell_type": "code",
      "execution_count": null,
      "id": "0cc78186",
      "metadata": {
        "id": "0cc78186"
      },
      "outputs": [],
      "source": [
        "# Now i have to fill nan values with admin object in Job column. We used fillna function to do that.\n",
        "fbnk.Job=fbnk.Job.fillna('admin')"
      ]
    },
    {
      "cell_type": "code",
      "execution_count": null,
      "id": "ff26b7f1",
      "metadata": {
        "id": "ff26b7f1",
        "outputId": "16f74469-3c19-4093-ff26-2849f046223a"
      },
      "outputs": [
        {
          "data": {
            "text/plain": [
              "Age                          0\n",
              "Job                          0\n",
              "Marital_Status               0\n",
              "Educational_Qualification    0\n",
              "Credit_Default               0\n",
              "Account_Balance              0\n",
              "Housing_Loan                 0\n",
              "Personal_Loan                0\n",
              "Contact_Number               0\n",
              "Last_Contact_Day             0\n",
              "Last_Contact_Month           0\n",
              "Call_Duration                0\n",
              "Current_Campaign             0\n",
              "Gap_Days                     0\n",
              "Previous_Campaign            0\n",
              "Previous_Campaign_Result     0\n",
              "Term_Deposit                 0\n",
              "dtype: int64"
            ]
          },
          "execution_count": 51,
          "metadata": {},
          "output_type": "execute_result"
        }
      ],
      "source": [
        "# Once again to check the null values in dataframe.There is no null values present in dataframe.\n",
        "fbnk.isnull().sum()"
      ]
    },
    {
      "cell_type": "code",
      "execution_count": null,
      "id": "008e861a",
      "metadata": {
        "id": "008e861a",
        "outputId": "65aa7257-da4b-4e2a-ba76-c4ef946dc0b1"
      },
      "outputs": [
        {
          "data": {
            "text/plain": [
              "array(['unemployed', 'services', 'management', 'blue-collar',\n",
              "       'self-employed', 'technician', 'entrepreneur', 'admin', 'student',\n",
              "       'housemaid', 'retired', 'unknown'], dtype=object)"
            ]
          },
          "execution_count": 52,
          "metadata": {},
          "output_type": "execute_result"
        }
      ],
      "source": [
        "# use unique function in Job column just to check it.\n",
        "fbnk['Job'].unique()"
      ]
    },
    {
      "cell_type": "code",
      "execution_count": null,
      "id": "83a03f90",
      "metadata": {
        "id": "83a03f90",
        "outputId": "a6c69fb8-349c-4272-9fc2-31e231a9f5ac"
      },
      "outputs": [
        {
          "name": "stdout",
          "output_type": "stream",
          "text": [
            "Count of unknown in column  Age  is :  0\n",
            "Count of unknown in column  Job  is :  288\n",
            "Count of unknown in column  Marital_Status  is :  0\n",
            "Count of unknown in column  Educational_Qualification  is :  1857\n",
            "Count of unknown in column  Credit_Default  is :  0\n",
            "Count of unknown in column  Account_Balance  is :  0\n",
            "Count of unknown in column  Housing_Loan  is :  0\n",
            "Count of unknown in column  Personal_Loan  is :  0\n",
            "Count of unknown in column  Contact_Number  is :  13020\n",
            "Count of unknown in column  Last_Contact_Day  is :  0\n",
            "Count of unknown in column  Last_Contact_Month  is :  0\n",
            "Count of unknown in column  Call_Duration  is :  0\n",
            "Count of unknown in column  Current_Campaign  is :  0\n",
            "Count of unknown in column  Gap_Days  is :  0\n",
            "Count of unknown in column  Previous_Campaign  is :  0\n",
            "Count of unknown in column  Previous_Campaign_Result  is :  36959\n",
            "Count of unknown in column  Term_Deposit  is :  0\n"
          ]
        }
      ],
      "source": [
        "# Now here what we have done.We applied a for loop to find out how many 'unknown' object we have in each columns. We can see\n",
        "# in few columns have 'unknown' object.\n",
        "for column_name in fbnk.columns:\n",
        "    column = fbnk[column_name]\n",
        "    count = (column == 'unknown').sum()\n",
        "    print('Count of unknown in column ', column_name, ' is : ', count)"
      ]
    },
    {
      "cell_type": "code",
      "execution_count": null,
      "id": "c82c2e51",
      "metadata": {
        "id": "c82c2e51"
      },
      "outputs": [],
      "source": [
        "# Now we have to convert 'unknown' object to null value of particular columns. This is 'Previous_Campaign_Result' column. \n",
        "fbnk['Previous_Campaign_Result'].replace(r'unknown', np.nan, inplace = True)"
      ]
    },
    {
      "cell_type": "code",
      "execution_count": null,
      "id": "3a762e5c",
      "metadata": {
        "id": "3a762e5c"
      },
      "outputs": [],
      "source": [
        "# This is Contact_Number column that we are going to convert into null. \n",
        "fbnk['Contact_Number'].replace(r'unknown', np.nan, inplace = True)"
      ]
    },
    {
      "cell_type": "code",
      "execution_count": null,
      "id": "f39d6aed",
      "metadata": {
        "id": "f39d6aed"
      },
      "outputs": [],
      "source": [
        "# This is Educational_Qualification column that we are going to convert into null. \n",
        "fbnk['Educational_Qualification'].replace(r'unknown', np.nan, inplace = True)"
      ]
    },
    {
      "cell_type": "code",
      "execution_count": null,
      "id": "4d43a345",
      "metadata": {
        "id": "4d43a345"
      },
      "outputs": [],
      "source": [
        "# This is Job column that we are going to convert into null.\n",
        "fbnk['Job'].replace(r'unknown', np.nan, inplace = True)"
      ]
    },
    {
      "cell_type": "code",
      "execution_count": null,
      "id": "c8a97b1e",
      "metadata": {
        "id": "c8a97b1e",
        "outputId": "5a8c188c-9dc0-439d-80a3-d7271c3ca9c8"
      },
      "outputs": [
        {
          "name": "stdout",
          "output_type": "stream",
          "text": [
            "Count of unknown in column  Age  is :  0\n",
            "Count of unknown in column  Job  is :  0\n",
            "Count of unknown in column  Marital_Status  is :  0\n",
            "Count of unknown in column  Educational_Qualification  is :  0\n",
            "Count of unknown in column  Credit_Default  is :  0\n",
            "Count of unknown in column  Account_Balance  is :  0\n",
            "Count of unknown in column  Housing_Loan  is :  0\n",
            "Count of unknown in column  Personal_Loan  is :  0\n",
            "Count of unknown in column  Contact_Number  is :  0\n",
            "Count of unknown in column  Last_Contact_Day  is :  0\n",
            "Count of unknown in column  Last_Contact_Month  is :  0\n",
            "Count of unknown in column  Call_Duration  is :  0\n",
            "Count of unknown in column  Current_Campaign  is :  0\n",
            "Count of unknown in column  Gap_Days  is :  0\n",
            "Count of unknown in column  Previous_Campaign  is :  0\n",
            "Count of unknown in column  Previous_Campaign_Result  is :  0\n",
            "Count of unknown in column  Term_Deposit  is :  0\n"
          ]
        }
      ],
      "source": [
        "# Now there are no 'unknow' object present in dataframe. We applied a forloop to check it.\n",
        "for column_name in fbnk.columns:\n",
        "    column = fbnk[column_name]\n",
        "    count = (column == 'unknown').sum()\n",
        "    print('Count of unknown in column ', column_name, ' is : ', count)"
      ]
    },
    {
      "cell_type": "code",
      "execution_count": null,
      "id": "cfa2a687",
      "metadata": {
        "id": "cfa2a687",
        "outputId": "b7a04087-4b98-47a1-a4e9-51f9b11075f5"
      },
      "outputs": [
        {
          "data": {
            "text/plain": [
              "Age                              0\n",
              "Job                            288\n",
              "Marital_Status                   0\n",
              "Educational_Qualification     1857\n",
              "Credit_Default                   0\n",
              "Account_Balance                  0\n",
              "Housing_Loan                     0\n",
              "Personal_Loan                    0\n",
              "Contact_Number               13020\n",
              "Last_Contact_Day                 0\n",
              "Last_Contact_Month               0\n",
              "Call_Duration                    0\n",
              "Current_Campaign                 0\n",
              "Gap_Days                         0\n",
              "Previous_Campaign                0\n",
              "Previous_Campaign_Result     36959\n",
              "Term_Deposit                     0\n",
              "dtype: int64"
            ]
          },
          "execution_count": 59,
          "metadata": {},
          "output_type": "execute_result"
        }
      ],
      "source": [
        "# Now once again to check null values in dataframe.\n",
        "fbnk.isnull().sum()"
      ]
    },
    {
      "cell_type": "code",
      "execution_count": null,
      "id": "54fb9780",
      "metadata": {
        "id": "54fb9780",
        "outputId": "3e311936-2a88-4615-c19e-dc1dca1667ae"
      },
      "outputs": [
        {
          "data": {
            "text/plain": [
              "Age                           0.000000\n",
              "Job                           0.637013\n",
              "Marital_Status                0.000000\n",
              "Educational_Qualification     4.107407\n",
              "Credit_Default                0.000000\n",
              "Account_Balance               0.000000\n",
              "Housing_Loan                  0.000000\n",
              "Personal_Loan                 0.000000\n",
              "Contact_Number               28.798301\n",
              "Last_Contact_Day              0.000000\n",
              "Last_Contact_Month            0.000000\n",
              "Call_Duration                 0.000000\n",
              "Current_Campaign              0.000000\n",
              "Gap_Days                      0.000000\n",
              "Previous_Campaign             0.000000\n",
              "Previous_Campaign_Result     81.747805\n",
              "Term_Deposit                  0.000000\n",
              "dtype: float64"
            ]
          },
          "execution_count": 60,
          "metadata": {},
          "output_type": "execute_result"
        }
      ],
      "source": [
        "# We can calculate the null value percentage. We need to calculate the mean value and multiply by 100. \n",
        "df=fbnk.isnull()\n",
        "df.sum()\n",
        "df.mean() *100"
      ]
    },
    {
      "cell_type": "code",
      "execution_count": null,
      "id": "b2866d20",
      "metadata": {
        "id": "b2866d20",
        "outputId": "04fa0fc4-7c36-48bc-d31e-813648011c13"
      },
      "outputs": [
        {
          "ename": "SyntaxError",
          "evalue": "invalid syntax (755861719.py, line 2)",
          "output_type": "error",
          "traceback": [
            "\u001b[1;36m  Input \u001b[1;32mIn [61]\u001b[1;36m\u001b[0m\n\u001b[1;33m    conda install -c conda-forge/label/gcc7 missingno\u001b[0m\n\u001b[1;37m          ^\u001b[0m\n\u001b[1;31mSyntaxError\u001b[0m\u001b[1;31m:\u001b[0m invalid syntax\n"
          ]
        }
      ],
      "source": [
        "# Install missingno package in jupiter notebook.\n",
        "conda install -c conda-forge/label/gcc7 missingno"
      ]
    },
    {
      "cell_type": "code",
      "execution_count": null,
      "id": "b728483f",
      "metadata": {
        "id": "b728483f"
      },
      "outputs": [],
      "source": [
        "# In order to do visualazation of missing value we need to import missingno laibary as msno. This plot will help us to \n",
        "# visualize the missing value in which columns and how many we have missing value also total number of rows and columns. \n",
        "import missingno as msno\n"
      ]
    },
    {
      "cell_type": "code",
      "execution_count": null,
      "id": "48246199",
      "metadata": {
        "id": "48246199",
        "outputId": "398266cf-397e-4dc4-ad3c-e0a155a362ea"
      },
      "outputs": [
        {
          "data": {
            "text/plain": [
              "Text(0.5, 1.0, 'Missing Values Visualization')"
            ]
          },
          "execution_count": 63,
          "metadata": {},
          "output_type": "execute_result"
        },
        {
          "data": {
            "text/plain": [
              "<Figure size 720x720 with 0 Axes>"
            ]
          },
          "metadata": {},
          "output_type": "display_data"
        },
        {
          "data": {
            "image/png": "[encoded data removed]",
            "text/plain": [
              "<Figure size 1728x720 with 3 Axes>"
            ]
          },
          "metadata": {
            "needs_background": "light"
          },
          "output_type": "display_data"
        }
      ],
      "source": [
        "# Basically here we created a bar plot with missing value. To get better visulizetion overall about missing value.We can see \n",
        "# couple of columns we have missing value.\n",
        "plt.figure(figsize=(10,10))\n",
        "msno.bar(fbnk)\n",
        "plt.title(\"Missing Values Visualization\")"
      ]
    },
    {
      "cell_type": "code",
      "execution_count": null,
      "id": "42052c3a",
      "metadata": {
        "id": "42052c3a",
        "outputId": "5d14e819-06b3-4c00-f259-53745311be19"
      },
      "outputs": [
        {
          "data": {
            "text/plain": [
              "<AxesSubplot:>"
            ]
          },
          "execution_count": 64,
          "metadata": {},
          "output_type": "execute_result"
        },
        {
          "data": {
            "image/png": "[encoded data removed]",
            "text/plain": [
              "<Figure size 1800x720 with 2 Axes>"
            ]
          },
          "metadata": {
            "needs_background": "light"
          },
          "output_type": "display_data"
        }
      ],
      "source": [
        "# We have to find out that is there are any relation with missing value present or not. We can use matrix of missing value \n",
        "# where you find the white spark there missing value are present also graph will be high.\n",
        "msno.matrix(fbnk)"
      ]
    },
    {
      "cell_type": "code",
      "execution_count": null,
      "id": "2b753ddb",
      "metadata": {
        "id": "2b753ddb",
        "outputId": "92450173-b82f-4aab-a491-90aab7896010"
      },
      "outputs": [
        {
          "data": {
            "text/plain": [
              "<AxesSubplot:>"
            ]
          },
          "execution_count": 65,
          "metadata": {},
          "output_type": "execute_result"
        },
        {
          "data": {
            "image/png": "[encoded data removed]",
            "text/plain": [
              "<Figure size 1800x720 with 2 Axes>"
            ]
          },
          "metadata": {
            "needs_background": "light"
          },
          "output_type": "display_data"
        }
      ],
      "source": [
        "# Now here we sort the values of \"Contact_Number\" column and then apply matrix to see is their any pattern present or not. \n",
        "# So we can see there are some pattern the missing value are not completely random.\n",
        "sp =fbnk.sort_values(\"Contact_Number\")\n",
        "msno.matrix(sp)"
      ]
    },
    {
      "cell_type": "code",
      "execution_count": null,
      "id": "20dc25d7",
      "metadata": {
        "id": "20dc25d7"
      },
      "outputs": [],
      "source": [
        "# Unecessary columns we need to delete it. Here we removed 'Previous_Campaign' and 'Gap_Days' because we don't know what is the\n",
        "# previous campaign. And Previous campaign result help us to analysis the customer who can do term deposit but there 81% data\n",
        "# is missing so I think rather then to keep it , remove the hole column is best. also remove the Gap_Days I think it's no use \n",
        "# of any analysis.\n",
        "fbnk=fbnk.drop(['Gap_Days', 'Previous_Campaign','Previous_Campaign_Result'], axis=1)\n"
      ]
    },
    {
      "cell_type": "code",
      "execution_count": null,
      "id": "8221c5f9",
      "metadata": {
        "scrolled": true,
        "id": "8221c5f9",
        "outputId": "29516115-ff07-40e3-d348-7302d6b69659"
      },
      "outputs": [
        {
          "data": {
            "text/html": [
              "<div>\n",
              "<style scoped>\n",
              "    .dataframe tbody tr th:only-of-type {\n",
              "        vertical-align: middle;\n",
              "    }\n",
              "\n",
              "    .dataframe tbody tr th {\n",
              "        vertical-align: top;\n",
              "    }\n",
              "\n",
              "    .dataframe thead th {\n",
              "        text-align: right;\n",
              "    }\n",
              "</style>\n",
              "<table border=\"1\" class=\"dataframe\">\n",
              "  <thead>\n",
              "    <tr style=\"text-align: right;\">\n",
              "      <th></th>\n",
              "      <th>Age</th>\n",
              "      <th>Job</th>\n",
              "      <th>Marital_Status</th>\n",
              "      <th>Educational_Qualification</th>\n",
              "      <th>Credit_Default</th>\n",
              "      <th>Account_Balance</th>\n",
              "      <th>Housing_Loan</th>\n",
              "      <th>Personal_Loan</th>\n",
              "      <th>Contact_Number</th>\n",
              "      <th>Last_Contact_Day</th>\n",
              "      <th>Last_Contact_Month</th>\n",
              "      <th>Call_Duration</th>\n",
              "      <th>Current_Campaign</th>\n",
              "      <th>Term_Deposit</th>\n",
              "    </tr>\n",
              "  </thead>\n",
              "  <tbody>\n",
              "    <tr>\n",
              "      <th>0</th>\n",
              "      <td>30.0</td>\n",
              "      <td>unemployed</td>\n",
              "      <td>married</td>\n",
              "      <td>primary</td>\n",
              "      <td>no</td>\n",
              "      <td>1787.0</td>\n",
              "      <td>no</td>\n",
              "      <td>no</td>\n",
              "      <td>cellular</td>\n",
              "      <td>19.0</td>\n",
              "      <td>oct</td>\n",
              "      <td>79.0</td>\n",
              "      <td>1</td>\n",
              "      <td>no</td>\n",
              "    </tr>\n",
              "    <tr>\n",
              "      <th>1</th>\n",
              "      <td>33.0</td>\n",
              "      <td>services</td>\n",
              "      <td>married</td>\n",
              "      <td>secondary</td>\n",
              "      <td>no</td>\n",
              "      <td>4789.0</td>\n",
              "      <td>yes</td>\n",
              "      <td>yes</td>\n",
              "      <td>cellular</td>\n",
              "      <td>11.0</td>\n",
              "      <td>may</td>\n",
              "      <td>220.0</td>\n",
              "      <td>1</td>\n",
              "      <td>no</td>\n",
              "    </tr>\n",
              "    <tr>\n",
              "      <th>2</th>\n",
              "      <td>35.0</td>\n",
              "      <td>management</td>\n",
              "      <td>single</td>\n",
              "      <td>tertiary</td>\n",
              "      <td>no</td>\n",
              "      <td>1350.0</td>\n",
              "      <td>yes</td>\n",
              "      <td>no</td>\n",
              "      <td>cellular</td>\n",
              "      <td>16.0</td>\n",
              "      <td>apr</td>\n",
              "      <td>185.0</td>\n",
              "      <td>1</td>\n",
              "      <td>no</td>\n",
              "    </tr>\n",
              "    <tr>\n",
              "      <th>3</th>\n",
              "      <td>30.0</td>\n",
              "      <td>management</td>\n",
              "      <td>married</td>\n",
              "      <td>tertiary</td>\n",
              "      <td>no</td>\n",
              "      <td>1476.0</td>\n",
              "      <td>yes</td>\n",
              "      <td>yes</td>\n",
              "      <td>NaN</td>\n",
              "      <td>3.0</td>\n",
              "      <td>jun</td>\n",
              "      <td>199.0</td>\n",
              "      <td>4</td>\n",
              "      <td>no</td>\n",
              "    </tr>\n",
              "    <tr>\n",
              "      <th>4</th>\n",
              "      <td>59.0</td>\n",
              "      <td>blue-collar</td>\n",
              "      <td>married</td>\n",
              "      <td>secondary</td>\n",
              "      <td>no</td>\n",
              "      <td>0.0</td>\n",
              "      <td>yes</td>\n",
              "      <td>no</td>\n",
              "      <td>NaN</td>\n",
              "      <td>5.0</td>\n",
              "      <td>may</td>\n",
              "      <td>226.0</td>\n",
              "      <td>1</td>\n",
              "      <td>no</td>\n",
              "    </tr>\n",
              "  </tbody>\n",
              "</table>\n",
              "</div>"
            ],
            "text/plain": [
              "    Age          Job Marital_Status Educational_Qualification Credit_Default  \\\n",
              "0  30.0   unemployed        married                   primary             no   \n",
              "1  33.0     services        married                 secondary             no   \n",
              "2  35.0   management         single                  tertiary             no   \n",
              "3  30.0   management        married                  tertiary             no   \n",
              "4  59.0  blue-collar        married                 secondary             no   \n",
              "\n",
              "   Account_Balance Housing_Loan Personal_Loan Contact_Number  \\\n",
              "0           1787.0           no            no       cellular   \n",
              "1           4789.0          yes           yes       cellular   \n",
              "2           1350.0          yes            no       cellular   \n",
              "3           1476.0          yes           yes            NaN   \n",
              "4              0.0          yes            no            NaN   \n",
              "\n",
              "   Last_Contact_Day Last_Contact_Month  Call_Duration  Current_Campaign  \\\n",
              "0              19.0                oct           79.0                 1   \n",
              "1              11.0                may          220.0                 1   \n",
              "2              16.0                apr          185.0                 1   \n",
              "3               3.0                jun          199.0                 4   \n",
              "4               5.0                may          226.0                 1   \n",
              "\n",
              "  Term_Deposit  \n",
              "0           no  \n",
              "1           no  \n",
              "2           no  \n",
              "3           no  \n",
              "4           no  "
            ]
          },
          "execution_count": 67,
          "metadata": {},
          "output_type": "execute_result"
        }
      ],
      "source": [
        "# Check the dataframe use head() function to see first five rows.\n",
        "fbnk.head()"
      ]
    },
    {
      "cell_type": "code",
      "execution_count": null,
      "id": "fb5e4507",
      "metadata": {
        "id": "fb5e4507",
        "outputId": "edd3fea5-5b6f-4bd6-9b8a-8b4f1210a979"
      },
      "outputs": [
        {
          "name": "stdout",
          "output_type": "stream",
          "text": [
            "<class 'pandas.core.frame.DataFrame'>\n",
            "Int64Index: 45211 entries, 0 to 49731\n",
            "Data columns (total 14 columns):\n",
            " #   Column                     Non-Null Count  Dtype  \n",
            "---  ------                     --------------  -----  \n",
            " 0   Age                        45211 non-null  Float64\n",
            " 1   Job                        44923 non-null  object \n",
            " 2   Marital_Status             45211 non-null  object \n",
            " 3   Educational_Qualification  43354 non-null  object \n",
            " 4   Credit_Default             45211 non-null  object \n",
            " 5   Account_Balance            45211 non-null  Float64\n",
            " 6   Housing_Loan               45211 non-null  object \n",
            " 7   Personal_Loan              45211 non-null  object \n",
            " 8   Contact_Number             32191 non-null  object \n",
            " 9   Last_Contact_Day           45211 non-null  Float64\n",
            " 10  Last_Contact_Month         45211 non-null  object \n",
            " 11  Call_Duration              45211 non-null  Float64\n",
            " 12  Current_Campaign           45211 non-null  int64  \n",
            " 13  Term_Deposit               45211 non-null  object \n",
            "dtypes: Float64(4), int64(1), object(9)\n",
            "memory usage: 5.3+ MB\n"
          ]
        }
      ],
      "source": [
        "# Once again the use info function to see infromation about dataframe. \n",
        "fbnk.info()"
      ]
    },
    {
      "cell_type": "code",
      "execution_count": null,
      "id": "69cbd271",
      "metadata": {
        "id": "69cbd271",
        "outputId": "ebab618f-3173-4021-af86-405b37ea017c"
      },
      "outputs": [
        {
          "data": {
            "text/plain": [
              "Age                              0\n",
              "Job                            288\n",
              "Marital_Status                   0\n",
              "Educational_Qualification     1857\n",
              "Credit_Default                   0\n",
              "Account_Balance                  0\n",
              "Housing_Loan                     0\n",
              "Personal_Loan                    0\n",
              "Contact_Number               13020\n",
              "Last_Contact_Day                 0\n",
              "Last_Contact_Month               0\n",
              "Call_Duration                    0\n",
              "Current_Campaign                 0\n",
              "Term_Deposit                     0\n",
              "dtype: int64"
            ]
          },
          "execution_count": 69,
          "metadata": {},
          "output_type": "execute_result"
        }
      ],
      "source": [
        "# Sum of null values in each columns of dataframe.\n",
        "fbnk.isnull().sum()"
      ]
    },
    {
      "cell_type": "code",
      "execution_count": null,
      "id": "d6a1ff96",
      "metadata": {
        "id": "d6a1ff96",
        "outputId": "fac0525f-6924-438c-8d87-fc4d87708559"
      },
      "outputs": [
        {
          "data": {
            "text/plain": [
              "0    cellular\n",
              "Name: Contact_Number, dtype: object"
            ]
          },
          "execution_count": 70,
          "metadata": {},
          "output_type": "execute_result"
        }
      ],
      "source": [
        "# Use mode for categorical data type find most frequent object in Contact_Number.\n",
        "fbnk['Contact_Number'].mode()"
      ]
    },
    {
      "cell_type": "code",
      "execution_count": null,
      "id": "515e64bd",
      "metadata": {
        "id": "515e64bd"
      },
      "outputs": [],
      "source": [
        "# Now fill up Null value with most frequent object in Contact_Number column.\n",
        "fbnk['Contact_Number'].fillna(fbnk['Contact_Number'].mode()[0],inplace=True)"
      ]
    },
    {
      "cell_type": "code",
      "execution_count": null,
      "id": "b5cc77d7",
      "metadata": {
        "id": "b5cc77d7",
        "outputId": "6b8c81c7-e63a-43c8-aa8d-be11d1789e48"
      },
      "outputs": [
        {
          "data": {
            "text/plain": [
              "0    secondary\n",
              "Name: Educational_Qualification, dtype: object"
            ]
          },
          "execution_count": 72,
          "metadata": {},
          "output_type": "execute_result"
        }
      ],
      "source": [
        "# Use mode for categorical data type find most frequent object in Educational_Qualification column.\n",
        "fbnk['Educational_Qualification'].mode()"
      ]
    },
    {
      "cell_type": "code",
      "execution_count": null,
      "id": "e45a2ac6",
      "metadata": {
        "id": "e45a2ac6"
      },
      "outputs": [],
      "source": [
        "# Now fill up Null value with most frequent object in Educational_Qualification column.\n",
        "fbnk['Educational_Qualification'].fillna(fbnk['Educational_Qualification'].mode()[0],inplace=True)"
      ]
    },
    {
      "cell_type": "code",
      "execution_count": null,
      "id": "8eb16d42",
      "metadata": {
        "id": "8eb16d42",
        "outputId": "4e981c84-7ed6-4893-cc76-d80c113a872b"
      },
      "outputs": [
        {
          "data": {
            "text/plain": [
              "0    blue-collar\n",
              "Name: Job, dtype: object"
            ]
          },
          "execution_count": 74,
          "metadata": {},
          "output_type": "execute_result"
        }
      ],
      "source": [
        "# Use mode for categorical data type find most frequent object in Job column.\n",
        "fbnk['Job'].mode()"
      ]
    },
    {
      "cell_type": "code",
      "execution_count": null,
      "id": "e84aae5a",
      "metadata": {
        "id": "e84aae5a"
      },
      "outputs": [],
      "source": [
        "# Now fill up Null value with most frequent object in Job column. \n",
        "fbnk['Job'].fillna(fbnk['Job'].mode()[0],inplace=True)"
      ]
    },
    {
      "cell_type": "code",
      "execution_count": null,
      "id": "50f4dcb5",
      "metadata": {
        "id": "50f4dcb5",
        "outputId": "bc193855-54bf-4490-8db9-5e637544917b"
      },
      "outputs": [
        {
          "data": {
            "text/plain": [
              "Age                          0\n",
              "Job                          0\n",
              "Marital_Status               0\n",
              "Educational_Qualification    0\n",
              "Credit_Default               0\n",
              "Account_Balance              0\n",
              "Housing_Loan                 0\n",
              "Personal_Loan                0\n",
              "Contact_Number               0\n",
              "Last_Contact_Day             0\n",
              "Last_Contact_Month           0\n",
              "Call_Duration                0\n",
              "Current_Campaign             0\n",
              "Term_Deposit                 0\n",
              "dtype: int64"
            ]
          },
          "execution_count": 76,
          "metadata": {},
          "output_type": "execute_result"
        }
      ],
      "source": [
        "# To check any null value present in each column. \n",
        "fbnk.isnull().sum()"
      ]
    },
    {
      "cell_type": "code",
      "execution_count": null,
      "id": "75939ffe",
      "metadata": {
        "id": "75939ffe",
        "outputId": "f6e98120-47a6-49fe-a6f6-1a0637b49d10"
      },
      "outputs": [
        {
          "name": "stdout",
          "output_type": "stream",
          "text": [
            "Count of unknown in column  Age  is :  0\n",
            "Count of unknown in column  Job  is :  0\n",
            "Count of unknown in column  Marital_Status  is :  0\n",
            "Count of unknown in column  Educational_Qualification  is :  0\n",
            "Count of unknown in column  Credit_Default  is :  0\n",
            "Count of unknown in column  Account_Balance  is :  3514\n",
            "Count of unknown in column  Housing_Loan  is :  0\n",
            "Count of unknown in column  Personal_Loan  is :  0\n",
            "Count of unknown in column  Contact_Number  is :  0\n",
            "Count of unknown in column  Last_Contact_Day  is :  0\n",
            "Count of unknown in column  Last_Contact_Month  is :  0\n",
            "Count of unknown in column  Call_Duration  is :  3\n",
            "Count of unknown in column  Current_Campaign  is :  0\n",
            "Count of unknown in column  Term_Deposit  is :  0\n"
          ]
        }
      ],
      "source": [
        "# Once again run for loop to find zero in dataframe and we have found zero in two columns one is Account_Balance and another is \n",
        "# Call_Duration. Zero's and (-) balance may have in account_balance column because it's related with amount and call_duration \n",
        "# also may have zero because it's related with time.\n",
        "for column_name in fbnk.columns:\n",
        "    column = fbnk[column_name]\n",
        "    count = (column == 0).sum()\n",
        "    print('Count of unknown in column ', column_name, ' is : ', count)"
      ]
    },
    {
      "cell_type": "code",
      "execution_count": null,
      "id": "6092c3d3",
      "metadata": {
        "id": "6092c3d3",
        "outputId": "f8b707fe-25a7-40d3-a6a9-3b1db2581eaa"
      },
      "outputs": [
        {
          "name": "stdout",
          "output_type": "stream",
          "text": [
            "Count of unknown in column  Age  is :  0\n",
            "Count of unknown in column  Job  is :  0\n",
            "Count of unknown in column  Marital_Status  is :  0\n",
            "Count of unknown in column  Educational_Qualification  is :  0\n",
            "Count of unknown in column  Credit_Default  is :  0\n",
            "Count of unknown in column  Account_Balance  is :  50\n",
            "Count of unknown in column  Housing_Loan  is :  0\n",
            "Count of unknown in column  Personal_Loan  is :  0\n",
            "Count of unknown in column  Contact_Number  is :  0\n",
            "Count of unknown in column  Last_Contact_Day  is :  0\n",
            "Count of unknown in column  Last_Contact_Month  is :  0\n",
            "Count of unknown in column  Call_Duration  is :  0\n",
            "Count of unknown in column  Current_Campaign  is :  0\n",
            "Count of unknown in column  Term_Deposit  is :  0\n"
          ]
        }
      ],
      "source": [
        "# To find out the \"-1\" in dataframe once again run foor loop and we got \"-\" on account_balance. \n",
        "for column_name in fbnk.columns:\n",
        "    column = fbnk[column_name]\n",
        "    count = (column == -1).sum()\n",
        "    print('Count of unknown in column ', column_name, ' is : ', count)"
      ]
    },
    {
      "cell_type": "code",
      "execution_count": null,
      "id": "02a85078",
      "metadata": {
        "id": "02a85078"
      },
      "outputs": [],
      "source": [
        "# We have to save the clean data as csv.\n",
        "fbnk.to_csv (r'C:\\Users\\Shiva\\Desktop\\sn.csv', index = False, header=True)"
      ]
    },
    {
      "cell_type": "code",
      "execution_count": null,
      "id": "38891aa4",
      "metadata": {
        "id": "38891aa4",
        "outputId": "bf35d2c0-8a94-4073-e994-bc4a99e4c8f2"
      },
      "outputs": [
        {
          "name": "stdout",
          "output_type": "stream",
          "text": [
            "<class 'pandas.core.frame.DataFrame'>\n",
            "Int64Index: 45211 entries, 0 to 49731\n",
            "Data columns (total 14 columns):\n",
            " #   Column                     Non-Null Count  Dtype  \n",
            "---  ------                     --------------  -----  \n",
            " 0   Age                        45211 non-null  Float64\n",
            " 1   Job                        45211 non-null  object \n",
            " 2   Marital_Status             45211 non-null  object \n",
            " 3   Educational_Qualification  45211 non-null  object \n",
            " 4   Credit_Default             45211 non-null  object \n",
            " 5   Account_Balance            45211 non-null  Float64\n",
            " 6   Housing_Loan               45211 non-null  object \n",
            " 7   Personal_Loan              45211 non-null  object \n",
            " 8   Contact_Number             45211 non-null  object \n",
            " 9   Last_Contact_Day           45211 non-null  Float64\n",
            " 10  Last_Contact_Month         45211 non-null  object \n",
            " 11  Call_Duration              45211 non-null  Float64\n",
            " 12  Current_Campaign           45211 non-null  int64  \n",
            " 13  Term_Deposit               45211 non-null  object \n",
            "dtypes: Float64(4), int64(1), object(9)\n",
            "memory usage: 5.3+ MB\n"
          ]
        }
      ],
      "source": [
        "fbnk.info()"
      ]
    },
    {
      "cell_type": "code",
      "execution_count": null,
      "id": "8026c990",
      "metadata": {
        "id": "8026c990"
      },
      "outputs": [],
      "source": [
        "# We need to find out the outlier in our dataframe. And do univariate analysis in all columns."
      ]
    },
    {
      "cell_type": "markdown",
      "source": [
        "# Univariate Analysis"
      ],
      "metadata": {
        "id": "UgvAk544iaQr"
      },
      "id": "UgvAk544iaQr"
    },
    {
      "cell_type": "code",
      "execution_count": null,
      "id": "2ea9253b",
      "metadata": {
        "id": "2ea9253b",
        "outputId": "5f8c8a18-52cc-4e4d-d1d6-d348173b7826"
      },
      "outputs": [
        {
          "name": "stderr",
          "output_type": "stream",
          "text": [
            "C:\\Users\\Shiva\\anaconda3\\lib\\site-packages\\seaborn\\_decorators.py:36: FutureWarning: Pass the following variable as a keyword arg: x. From version 0.12, the only valid positional argument will be `data`, and passing other arguments without an explicit keyword will result in an error or misinterpretation.\n",
            "  warnings.warn(\n"
          ]
        },
        {
          "data": {
            "image/png": "[encoded data removed]",
            "text/plain": [
              "<Figure size 432x288 with 1 Axes>"
            ]
          },
          "metadata": {
            "needs_background": "light"
          },
          "output_type": "display_data"
        }
      ],
      "source": [
        "# As we know Age column is countinous data type so we can applied box plot or hsitrogram with density plot. We used both of them\n",
        "# to find outliar and graph. We have some outliar but not extream outliar and data is not normalize it's right skewed data. \n",
        "sns.boxplot(fbnk[\"Age\"], showmeans = True)\n",
        "plt.title(\"This is Box plot of Age\") # This is the title of this plot.\n",
        "plt.xlabel(\"Total count of Age\") # This is the title of xlabel.\n",
        "plt.show()"
      ]
    },
    {
      "cell_type": "code",
      "execution_count": null,
      "id": "db2f67fc",
      "metadata": {
        "id": "db2f67fc",
        "outputId": "a6203127-a8c2-4363-fe67-b213a8993ffc"
      },
      "outputs": [
        {
          "name": "stderr",
          "output_type": "stream",
          "text": [
            "C:\\Users\\Shiva\\anaconda3\\lib\\site-packages\\seaborn\\distributions.py:2619: FutureWarning: `distplot` is a deprecated function and will be removed in a future version. Please adapt your code to use either `displot` (a figure-level function with similar flexibility) or `histplot` (an axes-level function for histograms).\n",
            "  warnings.warn(msg, FutureWarning)\n"
          ]
        },
        {
          "data": {
            "image/png": "[encoded data removed]",
            "text/plain": [
              "<Figure size 432x288 with 1 Axes>"
            ]
          },
          "metadata": {
            "needs_background": "light"
          },
          "output_type": "display_data"
        }
      ],
      "source": [
        "sns.distplot(a=fbnk.Age, color='red',\n",
        "             hist_kws={\"edgecolor\": 'white'})\n",
        "plt.title(\"This is histogram plot of Age \") # This is the title of this plot.\n",
        "plt.xlabel(\"Total Count of Age\") # This is the title of xlabel. \n",
        "plt.show()"
      ]
    },
    {
      "cell_type": "code",
      "execution_count": null,
      "id": "e35befb0",
      "metadata": {
        "id": "e35befb0",
        "outputId": "8e681f25-ee4c-4f34-9f6b-e1f8c3d8a6a7"
      },
      "outputs": [
        {
          "data": {
            "image/png": "[encoded data removed]",
            "text/plain": [
              "<Figure size 1080x360 with 1 Axes>"
            ]
          },
          "metadata": {
            "needs_background": "light"
          },
          "output_type": "display_data"
        }
      ],
      "source": [
        "# We created a count plot of Job column as it's categorical data type and we can see the count of every category of jobs.The \n",
        "# blue-collar job it has higgest count and student are lowest count. Their are slightly difference between management and blue-\n",
        "# collar job.\n",
        "plt.figure(figsize=(15,5)) # This the figure size of this plot.\n",
        "sns.countplot(x='Job', data=fbnk)\n",
        "plt.title(\"Count plot of Job\") # This is the title of this plot.\n",
        "plt.xlabel(\"Type of Jobs\") # This is the title of xlabel. \n",
        "plt.ylabel(\"Total Number of customers\") # This is the title of ylabel.\n",
        "plt.show()"
      ]
    },
    {
      "cell_type": "code",
      "execution_count": null,
      "id": "3d1ebff5",
      "metadata": {
        "id": "3d1ebff5",
        "outputId": "1f5c3e28-3c2d-4132-e01e-ea9672102d91"
      },
      "outputs": [
        {
          "data": {
            "image/png": "[encoded data removed]",
            "text/plain": [
              "<Figure size 360x360 with 1 Axes>"
            ]
          },
          "metadata": {
            "needs_background": "light"
          },
          "output_type": "display_data"
        }
      ],
      "source": [
        "# We used Count plot for this Marital_Status column as it's categorical data type. Married customers are huge rather then single\n",
        "# and divorced.\n",
        "plt.figure(figsize=(5,5)) # This the figure size of this plot.\n",
        "sns.countplot(x='Marital_Status', data=fbnk)\n",
        "plt.title(\"Count plot of Marital Status\") # This is the title of this plot.\n",
        "plt.xlabel(\"Status of Marital\") # This is the title of xlabel.\n",
        "plt.ylabel(\"Total count of Marital Status\") # This is the title of ylabel.\n",
        "plt.show()"
      ]
    },
    {
      "cell_type": "code",
      "execution_count": null,
      "id": "984ece1c",
      "metadata": {
        "id": "984ece1c",
        "outputId": "c1b1ea94-0da2-4651-a751-ef2748ebd65a"
      },
      "outputs": [
        {
          "data": {
            "image/png": "[encoded data removed]",
            "text/plain": [
              "<Figure size 576x360 with 1 Axes>"
            ]
          },
          "metadata": {
            "needs_background": "light"
          },
          "output_type": "display_data"
        }
      ],
      "source": [
        "# We used Count plot for this Educational_Qualification column as it's categorical data type. Secondary Educational \n",
        "# Qualification customers are highest rather then primary and tertiary.\n",
        "plt.figure(figsize=(8,5)) # This the figure size of this plot.\n",
        "sns.countplot(x='Educational_Qualification', data=fbnk)\n",
        "plt.title(\"Count plot of Educational Qualification\") # This is the title of this plot.\n",
        "plt.xlabel(\"Type of Educational Qualification\") # This is the title of xlabel.\n",
        "plt.ylabel(\"Total count of Educational Qualification\") # This is the title of ylabel.\n",
        "plt.show()"
      ]
    },
    {
      "cell_type": "code",
      "execution_count": null,
      "id": "31cf162c",
      "metadata": {
        "id": "31cf162c",
        "outputId": "2cd0272c-242a-4fc3-b52e-295fe4c27524"
      },
      "outputs": [
        {
          "data": {
            "image/png": "[encoded data removed]",
            "text/plain": [
              "<Figure size 360x360 with 1 Axes>"
            ]
          },
          "metadata": {
            "needs_background": "light"
          },
          "output_type": "display_data"
        }
      ],
      "source": [
        "# We used Count plot for this Credit_Default column as it's categorical data type. Here we can see maximum customers they don't \n",
        "# have credit in default may be they are not applied or they are not elegible for it,and very few people are have credit.\n",
        "plt.figure(figsize=(5,5)) # This the figure size of this plot.\n",
        "sns.countplot(x='Credit_Default', data=fbnk)\n",
        "plt.title(\"Count plot of Credit Default\") # This is the title of this plot.\n",
        "plt.xlabel(\"Category of Credit Default Yes and No\") # This is the title of xlabel.\n",
        "plt.ylabel(\"Total count of Credit Default\") # This is the title of ylabel.\n",
        "plt.show()"
      ]
    },
    {
      "cell_type": "code",
      "execution_count": null,
      "id": "da3143ad",
      "metadata": {
        "id": "da3143ad",
        "outputId": "1bca8d11-75c5-4bd1-e89b-5d3021981531"
      },
      "outputs": [
        {
          "name": "stderr",
          "output_type": "stream",
          "text": [
            "C:\\Users\\Shiva\\anaconda3\\lib\\site-packages\\seaborn\\_decorators.py:36: FutureWarning: Pass the following variable as a keyword arg: x. From version 0.12, the only valid positional argument will be `data`, and passing other arguments without an explicit keyword will result in an error or misinterpretation.\n",
            "  warnings.warn(\n"
          ]
        },
        {
          "data": {
            "image/png": "[encoded data removed]",
            "text/plain": [
              "<Figure size 432x288 with 1 Axes>"
            ]
          },
          "metadata": {
            "needs_background": "light"
          },
          "output_type": "display_data"
        }
      ],
      "source": [
        "# As the account balance columns belongs from continuous data type so,we applied box plot but it's not cleared, yes we have some\n",
        "# extreme outlier and median is almost 0. So we created as well as histogram with density plot.\n",
        "sns.boxplot(fbnk[\"Account_Balance\"], showmeans = True)\n",
        "plt.title(\"Box plot of Account Balance\") # This is the title of this plot.\n",
        "plt.show()"
      ]
    },
    {
      "cell_type": "code",
      "execution_count": null,
      "id": "7e3e4d91",
      "metadata": {
        "id": "7e3e4d91",
        "outputId": "e92fdf1c-af13-4e52-924a-2f2168678fdb"
      },
      "outputs": [
        {
          "name": "stderr",
          "output_type": "stream",
          "text": [
            "C:\\Users\\Shiva\\anaconda3\\lib\\site-packages\\seaborn\\distributions.py:2619: FutureWarning: `distplot` is a deprecated function and will be removed in a future version. Please adapt your code to use either `displot` (a figure-level function with similar flexibility) or `histplot` (an axes-level function for histograms).\n",
            "  warnings.warn(msg, FutureWarning)\n"
          ]
        },
        {
          "data": {
            "text/plain": [
              "Text(0.5, 1.0, 'Histogram with density plot of Account Balance')"
            ]
          },
          "execution_count": 115,
          "metadata": {},
          "output_type": "execute_result"
        },
        {
          "data": {
            "image/png": "[encoded data removed]",
            "text/plain": [
              "<Figure size 432x288 with 1 Axes>"
            ]
          },
          "metadata": {
            "needs_background": "light"
          },
          "output_type": "display_data"
        }
      ],
      "source": [
        "# Here we can see this is look like a normal distributed but it has long right tail. So it is a right skewed data. \n",
        "sns.distplot(a=fbnk.Account_Balance, color='green',\n",
        "             hist_kws={\"edgecolor\": 'white'})\n",
        "plt.title(\"Histogram with density plot of Account Balance\") # This is the title of this plot."
      ]
    },
    {
      "cell_type": "code",
      "execution_count": null,
      "id": "7e367fb2",
      "metadata": {
        "id": "7e367fb2",
        "outputId": "5c3ce844-ed72-4a19-e771-3337774e7960"
      },
      "outputs": [
        {
          "data": {
            "image/png": "[encoded data removed]",
            "text/plain": [
              "<Figure size 360x360 with 1 Axes>"
            ]
          },
          "metadata": {
            "needs_background": "light"
          },
          "output_type": "display_data"
        }
      ],
      "source": [
        "# Here this object about housing loan,like how many customers have house loan and how many customer don't have such house loan\n",
        "# we can clearly see that near about 25000 thousand customers have house loan and nearly 20000 thousand customers don't have \n",
        "# such as house loan.\n",
        "plt.figure(figsize=(5,5)) # This the figure size of this plot.\n",
        "sns.countplot(x='Housing_Loan', data=fbnk)\n",
        "plt.title(\"Count plot of Housing Loan\") # This is the title of this plot.\n",
        "plt.xlabel(\"House loan category Yes and No\") # This is the title of xlabel.\n",
        "plt.ylabel(\"Total count of Housing Loan Customers\") # This is the title of ylabel.\n",
        "plt.show()"
      ]
    },
    {
      "cell_type": "code",
      "execution_count": null,
      "id": "31a9f07b",
      "metadata": {
        "id": "31a9f07b",
        "outputId": "0d789713-e713-4358-f8eb-0b3a5c64ed14"
      },
      "outputs": [
        {
          "data": {
            "image/png": "[encoded data removed]",
            "text/plain": [
              "<Figure size 360x360 with 1 Axes>"
            ]
          },
          "metadata": {
            "needs_background": "light"
          },
          "output_type": "display_data"
        }
      ],
      "source": [
        "# Here we can see approx 38000 thousand customer don't have any personal loan and near about 7000 thousand customers have \n",
        "# personal loan.\n",
        "plt.figure(figsize=(5,5)) # This the figure size of this plot.\n",
        "sns.countplot(x='Personal_Loan', data=fbnk)\n",
        "plt.title(\"Count plot of Personal Loan\") # This is the title of this plot.\n",
        "plt.xlabel(\"Category of Personal Loan Yes and No\") # This is the title of xlabel.\n",
        "plt.ylabel(\"Total count of Personal Loan\") # This is the title of ylabel.\n",
        "plt.show()"
      ]
    },
    {
      "cell_type": "code",
      "execution_count": null,
      "id": "3043194c",
      "metadata": {
        "id": "3043194c",
        "outputId": "dcc494b4-8982-4c40-eb79-33af1933cd28"
      },
      "outputs": [
        {
          "data": {
            "image/png": "[encoded data removed]",
            "text/plain": [
              "<Figure size 360x360 with 1 Axes>"
            ]
          },
          "metadata": {
            "needs_background": "light"
          },
          "output_type": "display_data"
        }
      ],
      "source": [
        "# This is a count plot of contact number. Above 40000 thousand people using cellular phone and very few amount of people may be \n",
        "# bellow 3000 thousand people using landline phone.\n",
        "plt.figure(figsize=(5,5)) # This the figure size of this plot.\n",
        "sns.countplot(x='Contact_Number', data=fbnk)\n",
        "plt.title(\"Count plot of Contact Number\") # This is the title of this plot.\n",
        "plt.xlabel(\"Type of Contact Number\") # This is the title of xlabel.\n",
        "plt.ylabel(\"Total count of Contact Number\") # This is the title of ylabel.\n",
        "plt.show()"
      ]
    },
    {
      "cell_type": "code",
      "execution_count": null,
      "id": "8f5f07ab",
      "metadata": {
        "id": "8f5f07ab",
        "outputId": "698648c8-0d56-49b3-b11d-f02a70dfcabc"
      },
      "outputs": [
        {
          "name": "stderr",
          "output_type": "stream",
          "text": [
            "C:\\Users\\Shiva\\anaconda3\\lib\\site-packages\\seaborn\\_decorators.py:36: FutureWarning: Pass the following variable as a keyword arg: x. From version 0.12, the only valid positional argument will be `data`, and passing other arguments without an explicit keyword will result in an error or misinterpretation.\n",
            "  warnings.warn(\n"
          ]
        },
        {
          "data": {
            "text/plain": [
              "<AxesSubplot:xlabel='Last_Contact_Day'>"
            ]
          },
          "execution_count": 164,
          "metadata": {},
          "output_type": "execute_result"
        },
        {
          "data": {
            "image/png": "[encoded data removed]",
            "text/plain": [
              "<Figure size 432x288 with 1 Axes>"
            ]
          },
          "metadata": {
            "needs_background": "light"
          },
          "output_type": "display_data"
        }
      ],
      "source": [
        "# Here we created box plot but don't see any outlier it's look like normal distribution, but in histogram we see it some \n",
        "# different in it we think it's bimodel structure.\n",
        "sns.boxplot(fbnk[\"Last_Contact_Day\"], showmeans = True)"
      ]
    },
    {
      "cell_type": "code",
      "execution_count": null,
      "id": "841eb319",
      "metadata": {
        "id": "841eb319",
        "outputId": "8a3292ae-000a-4c2c-c31d-0872a2da862c"
      },
      "outputs": [
        {
          "name": "stderr",
          "output_type": "stream",
          "text": [
            "C:\\Users\\Shiva\\anaconda3\\lib\\site-packages\\seaborn\\distributions.py:2619: FutureWarning: `distplot` is a deprecated function and will be removed in a future version. Please adapt your code to use either `displot` (a figure-level function with similar flexibility) or `histplot` (an axes-level function for histograms).\n",
            "  warnings.warn(msg, FutureWarning)\n"
          ]
        },
        {
          "data": {
            "text/plain": [
              "<AxesSubplot:xlabel='Last_Contact_Day', ylabel='Density'>"
            ]
          },
          "execution_count": 169,
          "metadata": {},
          "output_type": "execute_result"
        },
        {
          "data": {
            "image/png": "[encoded data removed]",
            "text/plain": [
              "<Figure size 432x288 with 1 Axes>"
            ]
          },
          "metadata": {
            "needs_background": "light"
          },
          "output_type": "display_data"
        }
      ],
      "source": [
        "# We applied histogram in same object and it's bimodel structure.  \n",
        "sns.distplot(a=fbnk.Last_Contact_Day, color='blue',\n",
        "             hist_kws={\"edgecolor\": 'white'})"
      ]
    },
    {
      "cell_type": "code",
      "execution_count": null,
      "id": "82a5a627",
      "metadata": {
        "id": "82a5a627",
        "outputId": "480ba035-4910-4f30-b576-c0763cd84cc3"
      },
      "outputs": [
        {
          "data": {
            "image/png": "[encoded data removed]",
            "text/plain": [
              "<Figure size 576x360 with 1 Axes>"
            ]
          },
          "metadata": {
            "needs_background": "light"
          },
          "output_type": "display_data"
        }
      ],
      "source": [
        "# In this diagram we can say in month of may maximum customer was conected and month of december lowest amount of customer was \n",
        "# connected.\n",
        "plt.figure(figsize=(8,5)) # This the figure size of this plot.\n",
        "sns.countplot(x='Last_Contact_Month', data=fbnk)\n",
        "plt.title(\"Count plot of Last Contact Month\") # This is the title of this plot.\n",
        "plt.xlabel(\"Last contscted month with customers\") # This is the title of xlabel.\n",
        "plt.ylabel(\"Total Number of Customer\") # This is the title of ylabel.\n",
        "plt.show()"
      ]
    },
    {
      "cell_type": "code",
      "execution_count": null,
      "id": "be48ce52",
      "metadata": {
        "id": "be48ce52",
        "outputId": "4bbfa163-4ccc-45a6-cd27-0b200eadd191"
      },
      "outputs": [
        {
          "name": "stderr",
          "output_type": "stream",
          "text": [
            "C:\\Users\\Shiva\\anaconda3\\lib\\site-packages\\seaborn\\_decorators.py:36: FutureWarning: Pass the following variable as a keyword arg: x. From version 0.12, the only valid positional argument will be `data`, and passing other arguments without an explicit keyword will result in an error or misinterpretation.\n",
            "  warnings.warn(\n"
          ]
        },
        {
          "data": {
            "text/plain": [
              "<AxesSubplot:xlabel='Call_Duration'>"
            ]
          },
          "execution_count": 165,
          "metadata": {},
          "output_type": "execute_result"
        },
        {
          "data": {
            "image/png": "[encoded data removed]",
            "text/plain": [
              "<Figure size 432x288 with 1 Axes>"
            ]
          },
          "metadata": {
            "needs_background": "light"
          },
          "output_type": "display_data"
        }
      ],
      "source": [
        "# Call duration is a numeric data type so we created box plot and we have outlier and also some extreme outlier, median also\n",
        "# zero maximum below 1000 thousand.\n",
        "sns.boxplot(fbnk[\"Call_Duration\"], showmeans = True)"
      ]
    },
    {
      "cell_type": "code",
      "execution_count": null,
      "id": "942c7dcb",
      "metadata": {
        "id": "942c7dcb",
        "outputId": "d745289f-9b0f-4e86-ab37-c907b270ae69"
      },
      "outputs": [
        {
          "name": "stderr",
          "output_type": "stream",
          "text": [
            "C:\\Users\\Shiva\\anaconda3\\lib\\site-packages\\seaborn\\distributions.py:2619: FutureWarning: `distplot` is a deprecated function and will be removed in a future version. Please adapt your code to use either `displot` (a figure-level function with similar flexibility) or `histplot` (an axes-level function for histograms).\n",
            "  warnings.warn(msg, FutureWarning)\n"
          ]
        },
        {
          "data": {
            "text/plain": [
              "<AxesSubplot:xlabel='Call_Duration', ylabel='Density'>"
            ]
          },
          "execution_count": 170,
          "metadata": {},
          "output_type": "execute_result"
        },
        {
          "data": {
            "image/png": "[encoded data removed]",
            "text/plain": [
              "<Figure size 432x288 with 1 Axes>"
            ]
          },
          "metadata": {
            "needs_background": "light"
          },
          "output_type": "display_data"
        }
      ],
      "source": [
        "# Now we created same object on histogram with density plot here we can see it's kind of normal distribution but it has long \n",
        "# right tail so it's right skewed.\n",
        "sns.distplot(a=fbnk.Call_Duration, color='black',\n",
        "             hist_kws={\"edgecolor\": 'white'})"
      ]
    },
    {
      "cell_type": "code",
      "execution_count": null,
      "id": "c9fae39e",
      "metadata": {
        "id": "c9fae39e",
        "outputId": "9c4f152c-e3fa-4c6c-f2d0-0949aec0a8ac"
      },
      "outputs": [
        {
          "name": "stderr",
          "output_type": "stream",
          "text": [
            "C:\\Users\\Shiva\\anaconda3\\lib\\site-packages\\seaborn\\_decorators.py:36: FutureWarning: Pass the following variable as a keyword arg: x. From version 0.12, the only valid positional argument will be `data`, and passing other arguments without an explicit keyword will result in an error or misinterpretation.\n",
            "  warnings.warn(\n"
          ]
        },
        {
          "data": {
            "text/plain": [
              "<AxesSubplot:xlabel='Current_Campaign'>"
            ]
          },
          "execution_count": 166,
          "metadata": {},
          "output_type": "execute_result"
        },
        {
          "data": {
            "image/png": "[encoded data removed]",
            "text/plain": [
              "<Figure size 432x288 with 1 Axes>"
            ]
          },
          "metadata": {
            "needs_background": "light"
          },
          "output_type": "display_data"
        }
      ],
      "source": [
        "# We create box plot to current_campaign but it's showing everythings on outlier.\n",
        "sns.boxplot(fbnk[\"Current_Campaign\"], showmeans = True)"
      ]
    },
    {
      "cell_type": "code",
      "execution_count": null,
      "id": "69657a2e",
      "metadata": {
        "id": "69657a2e",
        "outputId": "6e96f714-42d8-4439-b222-42ba56732782"
      },
      "outputs": [
        {
          "name": "stderr",
          "output_type": "stream",
          "text": [
            "C:\\Users\\Shiva\\anaconda3\\lib\\site-packages\\seaborn\\distributions.py:2619: FutureWarning: `distplot` is a deprecated function and will be removed in a future version. Please adapt your code to use either `displot` (a figure-level function with similar flexibility) or `histplot` (an axes-level function for histograms).\n",
            "  warnings.warn(msg, FutureWarning)\n"
          ]
        },
        {
          "data": {
            "text/plain": [
              "<AxesSubplot:xlabel='Current_Campaign', ylabel='Density'>"
            ]
          },
          "execution_count": 94,
          "metadata": {},
          "output_type": "execute_result"
        },
        {
          "data": {
            "image/png": "[encoded data removed]",
            "text/plain": [
              "<Figure size 432x288 with 1 Axes>"
            ]
          },
          "metadata": {
            "needs_background": "light"
          },
          "output_type": "display_data"
        }
      ],
      "source": [
        "# Once again we create histogram on current campaign data and we can see it has long right tail and it's right skewded data.\n",
        "sns.distplot(a=fbnk.Current_Campaign, color='brown',\n",
        "             hist_kws={\"edgecolor\": 'white'})"
      ]
    },
    {
      "cell_type": "code",
      "execution_count": null,
      "id": "5b7b12f2",
      "metadata": {
        "id": "5b7b12f2",
        "outputId": "05a911bc-119b-49af-cd6f-9ddc23bbcc78"
      },
      "outputs": [
        {
          "data": {
            "image/png": "[encoded data removed]",
            "text/plain": [
              "<Figure size 360x360 with 1 Axes>"
            ]
          },
          "metadata": {
            "needs_background": "light"
          },
          "output_type": "display_data"
        }
      ],
      "source": [
        "# It's clear here that nearly 40000 thousand customer has no term deposite and approx 5000 thousand customer has term deposit.\n",
        "plt.figure(figsize=(5,5)) # This the figure size of this plot.\n",
        "sns.countplot(x='Term_Deposit', data=fbnk)\n",
        "plt.title(\"Count plot of Term Deposit\") # This is the title of this plot.\n",
        "plt.xlabel(\"Category of Term Deposit Yes and No\") # This is the title of xlabel.\n",
        "plt.ylabel(\"Total Number of Customer\") # This is the title of ylabel.\n",
        "plt.show()"
      ]
    },
    {
      "cell_type": "markdown",
      "source": [
        "# Bivariate Analysis"
      ],
      "metadata": {
        "id": "0YQr1NUJirtT"
      },
      "id": "0YQr1NUJirtT"
    },
    {
      "cell_type": "code",
      "execution_count": null,
      "id": "2b04004a",
      "metadata": {
        "id": "2b04004a",
        "outputId": "d7cfe507-cc95-482a-999c-4108815b9df7"
      },
      "outputs": [
        {
          "data": {
            "text/html": [
              "<div>\n",
              "<style scoped>\n",
              "    .dataframe tbody tr th:only-of-type {\n",
              "        vertical-align: middle;\n",
              "    }\n",
              "\n",
              "    .dataframe tbody tr th {\n",
              "        vertical-align: top;\n",
              "    }\n",
              "\n",
              "    .dataframe thead th {\n",
              "        text-align: right;\n",
              "    }\n",
              "</style>\n",
              "<table border=\"1\" class=\"dataframe\">\n",
              "  <thead>\n",
              "    <tr style=\"text-align: right;\">\n",
              "      <th></th>\n",
              "      <th>Age</th>\n",
              "      <th>Job</th>\n",
              "      <th>Marital_Status</th>\n",
              "      <th>Educational_Qualification</th>\n",
              "      <th>Credit_Default</th>\n",
              "      <th>Account_Balance</th>\n",
              "      <th>Housing_Loan</th>\n",
              "      <th>Personal_Loan</th>\n",
              "      <th>Contact_Number</th>\n",
              "      <th>Last_Contact_Day</th>\n",
              "      <th>Last_Contact_Month</th>\n",
              "      <th>Call_Duration</th>\n",
              "      <th>Current_Campaign</th>\n",
              "      <th>Term_Deposit</th>\n",
              "    </tr>\n",
              "  </thead>\n",
              "  <tbody>\n",
              "    <tr>\n",
              "      <th>0</th>\n",
              "      <td>30.0</td>\n",
              "      <td>unemployed</td>\n",
              "      <td>married</td>\n",
              "      <td>primary</td>\n",
              "      <td>no</td>\n",
              "      <td>1787.0</td>\n",
              "      <td>no</td>\n",
              "      <td>no</td>\n",
              "      <td>cellular</td>\n",
              "      <td>19.0</td>\n",
              "      <td>oct</td>\n",
              "      <td>79.0</td>\n",
              "      <td>1</td>\n",
              "      <td>no</td>\n",
              "    </tr>\n",
              "    <tr>\n",
              "      <th>1</th>\n",
              "      <td>33.0</td>\n",
              "      <td>services</td>\n",
              "      <td>married</td>\n",
              "      <td>secondary</td>\n",
              "      <td>no</td>\n",
              "      <td>4789.0</td>\n",
              "      <td>yes</td>\n",
              "      <td>yes</td>\n",
              "      <td>cellular</td>\n",
              "      <td>11.0</td>\n",
              "      <td>may</td>\n",
              "      <td>220.0</td>\n",
              "      <td>1</td>\n",
              "      <td>no</td>\n",
              "    </tr>\n",
              "    <tr>\n",
              "      <th>2</th>\n",
              "      <td>35.0</td>\n",
              "      <td>management</td>\n",
              "      <td>single</td>\n",
              "      <td>tertiary</td>\n",
              "      <td>no</td>\n",
              "      <td>1350.0</td>\n",
              "      <td>yes</td>\n",
              "      <td>no</td>\n",
              "      <td>cellular</td>\n",
              "      <td>16.0</td>\n",
              "      <td>apr</td>\n",
              "      <td>185.0</td>\n",
              "      <td>1</td>\n",
              "      <td>no</td>\n",
              "    </tr>\n",
              "    <tr>\n",
              "      <th>3</th>\n",
              "      <td>30.0</td>\n",
              "      <td>management</td>\n",
              "      <td>married</td>\n",
              "      <td>tertiary</td>\n",
              "      <td>no</td>\n",
              "      <td>1476.0</td>\n",
              "      <td>yes</td>\n",
              "      <td>yes</td>\n",
              "      <td>cellular</td>\n",
              "      <td>3.0</td>\n",
              "      <td>jun</td>\n",
              "      <td>199.0</td>\n",
              "      <td>4</td>\n",
              "      <td>no</td>\n",
              "    </tr>\n",
              "    <tr>\n",
              "      <th>4</th>\n",
              "      <td>59.0</td>\n",
              "      <td>blue-collar</td>\n",
              "      <td>married</td>\n",
              "      <td>secondary</td>\n",
              "      <td>no</td>\n",
              "      <td>0.0</td>\n",
              "      <td>yes</td>\n",
              "      <td>no</td>\n",
              "      <td>cellular</td>\n",
              "      <td>5.0</td>\n",
              "      <td>may</td>\n",
              "      <td>226.0</td>\n",
              "      <td>1</td>\n",
              "      <td>no</td>\n",
              "    </tr>\n",
              "  </tbody>\n",
              "</table>\n",
              "</div>"
            ],
            "text/plain": [
              "    Age          Job Marital_Status Educational_Qualification Credit_Default  \\\n",
              "0  30.0   unemployed        married                   primary             no   \n",
              "1  33.0     services        married                 secondary             no   \n",
              "2  35.0   management         single                  tertiary             no   \n",
              "3  30.0   management        married                  tertiary             no   \n",
              "4  59.0  blue-collar        married                 secondary             no   \n",
              "\n",
              "   Account_Balance Housing_Loan Personal_Loan Contact_Number  \\\n",
              "0           1787.0           no            no       cellular   \n",
              "1           4789.0          yes           yes       cellular   \n",
              "2           1350.0          yes            no       cellular   \n",
              "3           1476.0          yes           yes       cellular   \n",
              "4              0.0          yes            no       cellular   \n",
              "\n",
              "   Last_Contact_Day Last_Contact_Month  Call_Duration  Current_Campaign  \\\n",
              "0              19.0                oct           79.0                 1   \n",
              "1              11.0                may          220.0                 1   \n",
              "2              16.0                apr          185.0                 1   \n",
              "3               3.0                jun          199.0                 4   \n",
              "4               5.0                may          226.0                 1   \n",
              "\n",
              "  Term_Deposit  \n",
              "0           no  \n",
              "1           no  \n",
              "2           no  \n",
              "3           no  \n",
              "4           no  "
            ]
          },
          "execution_count": 87,
          "metadata": {},
          "output_type": "execute_result"
        }
      ],
      "source": [
        "fbnk.head()"
      ]
    },
    {
      "cell_type": "code",
      "execution_count": null,
      "id": "d70ac6ab",
      "metadata": {
        "id": "d70ac6ab",
        "outputId": "5ab11823-01fb-4554-9f3c-3ee72752253f"
      },
      "outputs": [
        {
          "data": {
            "text/plain": [
              "Text(0, 0.5, 'Total Number of customer as job titles')"
            ]
          },
          "execution_count": 107,
          "metadata": {},
          "output_type": "execute_result"
        },
        {
          "data": {
            "image/png": "[encoded data removed]",
            "text/plain": [
              "<Figure size 1080x360 with 1 Axes>"
            ]
          },
          "metadata": {},
          "output_type": "display_data"
        }
      ],
      "source": [
        "# In this diagram we can say that approximately 10000 thousand customers of blue-collar workar have no term deposit. And those\n",
        "# People are working as management they have highest amount of term deposite. Verly less amount of customer have term deposite \n",
        "# who associate with entrepreneur,self-employed,unemployed,housemaid. We think bank should focuse on those customers who have \n",
        "# are related with this kind of job title like services,management,blue-collar,technician,admin etc.\n",
        "plt.figure(figsize=(15,5)) # This the figure size of this plot.\n",
        "sns.countplot(x ='Job', hue = \"Term_Deposit\", data = fbnk)\n",
        "plt.title(\"Term Deposite distribution respectively on Job\") # Title for this diagram. \n",
        "plt.xlabel(\"Type of job title\") # Title for xlable.\n",
        "plt.ylabel(\"Total Number of customer as job titles\") # Title for ylable."
      ]
    },
    {
      "cell_type": "code",
      "execution_count": null,
      "id": "7245cea1",
      "metadata": {
        "scrolled": false,
        "id": "7245cea1",
        "outputId": "97031442-710d-49c4-dafb-d631c323e5dd"
      },
      "outputs": [
        {
          "data": {
            "text/plain": [
              "Text(0, 0.5, 'Total Number of customer as Marital Status')"
            ]
          },
          "execution_count": 101,
          "metadata": {},
          "output_type": "execute_result"
        },
        {
          "data": {
            "image/png": "[encoded data removed]",
            "text/plain": [
              "<Figure size 720x360 with 1 Axes>"
            ]
          },
          "metadata": {
            "needs_background": "light"
          },
          "output_type": "display_data"
        }
      ],
      "source": [
        "# As we can realise after seing this plot married customers don't maximum term deposite it's approx 25000 thousand customers.\n",
        "# slightly same as those are single it's nearly 10000 thousand customers don't have any term deposite and allmost 5000 thousand\n",
        "# divorse customers have same. We think bank should concerned those customers are married and single it will help a lot to\n",
        "# increase of term deposite.\n",
        "plt.figure(figsize=(10,5)) # This the figure size of this plot.\n",
        "sns.countplot(x ='Marital_Status', hue = \"Term_Deposit\", data = fbnk)\n",
        "plt.title(\"Term Deposite distribution respectively on Marital Status\") # Title for this plot.\n",
        "plt.xlabel(\"Status of Marital\") # Title for xlable.\n",
        "plt.ylabel(\"Total Number of customer as Marital Status\") # Title for ylable."
      ]
    },
    {
      "cell_type": "code",
      "execution_count": null,
      "id": "4c6d59ab",
      "metadata": {
        "id": "4c6d59ab",
        "outputId": "e9f1e179-c1bd-4297-a156-dd0024fb3692"
      },
      "outputs": [
        {
          "data": {
            "text/plain": [
              "Text(0, 0.5, 'Account balance respectively on Term Deposite')"
            ]
          },
          "execution_count": 115,
          "metadata": {},
          "output_type": "execute_result"
        },
        {
          "data": {
            "image/png": "[encoded data removed]",
            "text/plain": [
              "<Figure size 504x360 with 1 Axes>"
            ]
          },
          "metadata": {},
          "output_type": "display_data"
        }
      ],
      "source": [
        "# We can see those customer account balance is above 1750 they have term deposite. \n",
        "plt.figure(figsize=(7,5)) # This the figure size of this plot.\n",
        "sns.set_style(\"whitegrid\")\n",
        "sns.barplot(y = 'Account_Balance', x = 'Term_Deposit', data =fbnk)\n",
        "plt.title(\"Term Deposite distribution respectively on Account Balance\") # Title for this plot.\n",
        "plt.xlabel(\"Category of Term Deposite\") # Title for xlable.\n",
        "plt.ylabel(\"Account balance respectively on Term Deposite\") # Title for ylable."
      ]
    },
    {
      "cell_type": "code",
      "execution_count": null,
      "id": "9e7286cc",
      "metadata": {
        "id": "9e7286cc",
        "outputId": "537e0f7b-f845-44f3-e45b-4355a13079c1"
      },
      "outputs": [
        {
          "data": {
            "text/plain": [
              "Text(0, 0.5, 'Total Number of customer as Term Deposite')"
            ]
          },
          "execution_count": 120,
          "metadata": {},
          "output_type": "execute_result"
        },
        {
          "data": {
            "image/png": "[encoded data removed]",
            "text/plain": [
              "<Figure size 360x360 with 1 Axes>"
            ]
          },
          "metadata": {},
          "output_type": "display_data"
        }
      ],
      "source": [
        "# As we can see those customers have house loan they less have term deposite, and those customer don't have house loan they have\n",
        "# small amount of term deposite. Bank should focuse on customers who don't have any housing loan.\n",
        "plt.figure(figsize=(5,5)) # This the figure size of this plot.\n",
        "sns.countplot(x ='Housing_Loan', hue = \"Term_Deposit\", data = fbnk)\n",
        "plt.title(\"Term Deposite distribution respectively on Housing Loan\") # Title for this diagram. \n",
        "plt.xlabel(\"House loan Yes and No\") # Title for xlable.\n",
        "plt.ylabel(\"Total Number of customer as Term Deposite\") # Title for ylable."
      ]
    },
    {
      "cell_type": "code",
      "execution_count": null,
      "id": "60a6e13a",
      "metadata": {
        "id": "60a6e13a",
        "outputId": "2457ba66-e8ba-4580-d543-ab86f18871ff"
      },
      "outputs": [
        {
          "data": {
            "text/plain": [
              "Text(0, 0.5, 'Total Number of customer as Term Deposite')"
            ]
          },
          "execution_count": 121,
          "metadata": {},
          "output_type": "execute_result"
        },
        {
          "data": {
            "image/png": "[encoded data removed]",
            "text/plain": [
              "<Figure size 360x360 with 1 Axes>"
            ]
          },
          "metadata": {},
          "output_type": "display_data"
        }
      ],
      "source": [
        "# Here we can see approximately 35000 thousand customer has no personal loan as well as they don't have any term deposite\n",
        "# and near by 5000 thousand customers have term deposite but they don't have any personal loan on the other hand very less \n",
        "# customer has term deposite and personal loan and approximately 6000 thousand customer don't have term deposite but they \n",
        "# have personal loan. Bank should focused on those customer who have not any personal loan. \n",
        "plt.figure(figsize=(5,5)) # This the figure size of this plot.\n",
        "sns.countplot(x ='Personal_Loan', hue = \"Term_Deposit\", data = fbnk)\n",
        "plt.title(\"Term Deposite distribution respectively on Personal Loan\") # Title for this diagram. \n",
        "plt.xlabel(\"Personal Loan Yes and No\") # Title for xlable.\n",
        "plt.ylabel(\"Total Number of customer as Term Deposite\") # Title for ylable."
      ]
    },
    {
      "cell_type": "markdown",
      "source": [
        "# Multivariate Analysis"
      ],
      "metadata": {
        "id": "512NIuYMi3Pq"
      },
      "id": "512NIuYMi3Pq"
    },
    {
      "cell_type": "code",
      "execution_count": null,
      "id": "c6769e23",
      "metadata": {
        "id": "c6769e23",
        "outputId": "4b36b20c-b8b0-42be-8e86-d6f68c45caf2"
      },
      "outputs": [
        {
          "data": {
            "text/html": [
              "<div>\n",
              "<style scoped>\n",
              "    .dataframe tbody tr th:only-of-type {\n",
              "        vertical-align: middle;\n",
              "    }\n",
              "\n",
              "    .dataframe tbody tr th {\n",
              "        vertical-align: top;\n",
              "    }\n",
              "\n",
              "    .dataframe thead th {\n",
              "        text-align: right;\n",
              "    }\n",
              "</style>\n",
              "<table border=\"1\" class=\"dataframe\">\n",
              "  <thead>\n",
              "    <tr style=\"text-align: right;\">\n",
              "      <th></th>\n",
              "      <th>Age</th>\n",
              "      <th>Job</th>\n",
              "      <th>Marital_Status</th>\n",
              "      <th>Educational_Qualification</th>\n",
              "      <th>Credit_Default</th>\n",
              "      <th>Account_Balance</th>\n",
              "      <th>Housing_Loan</th>\n",
              "      <th>Personal_Loan</th>\n",
              "      <th>Contact_Number</th>\n",
              "      <th>Last_Contact_Day</th>\n",
              "      <th>Last_Contact_Month</th>\n",
              "      <th>Call_Duration</th>\n",
              "      <th>Current_Campaign</th>\n",
              "      <th>Term_Deposit</th>\n",
              "    </tr>\n",
              "  </thead>\n",
              "  <tbody>\n",
              "    <tr>\n",
              "      <th>0</th>\n",
              "      <td>30.0</td>\n",
              "      <td>unemployed</td>\n",
              "      <td>married</td>\n",
              "      <td>primary</td>\n",
              "      <td>no</td>\n",
              "      <td>1787.0</td>\n",
              "      <td>no</td>\n",
              "      <td>no</td>\n",
              "      <td>cellular</td>\n",
              "      <td>19.0</td>\n",
              "      <td>oct</td>\n",
              "      <td>79.0</td>\n",
              "      <td>1</td>\n",
              "      <td>no</td>\n",
              "    </tr>\n",
              "    <tr>\n",
              "      <th>1</th>\n",
              "      <td>33.0</td>\n",
              "      <td>services</td>\n",
              "      <td>married</td>\n",
              "      <td>secondary</td>\n",
              "      <td>no</td>\n",
              "      <td>4789.0</td>\n",
              "      <td>yes</td>\n",
              "      <td>yes</td>\n",
              "      <td>cellular</td>\n",
              "      <td>11.0</td>\n",
              "      <td>may</td>\n",
              "      <td>220.0</td>\n",
              "      <td>1</td>\n",
              "      <td>no</td>\n",
              "    </tr>\n",
              "    <tr>\n",
              "      <th>2</th>\n",
              "      <td>35.0</td>\n",
              "      <td>management</td>\n",
              "      <td>single</td>\n",
              "      <td>tertiary</td>\n",
              "      <td>no</td>\n",
              "      <td>1350.0</td>\n",
              "      <td>yes</td>\n",
              "      <td>no</td>\n",
              "      <td>cellular</td>\n",
              "      <td>16.0</td>\n",
              "      <td>apr</td>\n",
              "      <td>185.0</td>\n",
              "      <td>1</td>\n",
              "      <td>no</td>\n",
              "    </tr>\n",
              "    <tr>\n",
              "      <th>3</th>\n",
              "      <td>30.0</td>\n",
              "      <td>management</td>\n",
              "      <td>married</td>\n",
              "      <td>tertiary</td>\n",
              "      <td>no</td>\n",
              "      <td>1476.0</td>\n",
              "      <td>yes</td>\n",
              "      <td>yes</td>\n",
              "      <td>cellular</td>\n",
              "      <td>3.0</td>\n",
              "      <td>jun</td>\n",
              "      <td>199.0</td>\n",
              "      <td>4</td>\n",
              "      <td>no</td>\n",
              "    </tr>\n",
              "    <tr>\n",
              "      <th>4</th>\n",
              "      <td>59.0</td>\n",
              "      <td>blue-collar</td>\n",
              "      <td>married</td>\n",
              "      <td>secondary</td>\n",
              "      <td>no</td>\n",
              "      <td>0.0</td>\n",
              "      <td>yes</td>\n",
              "      <td>no</td>\n",
              "      <td>cellular</td>\n",
              "      <td>5.0</td>\n",
              "      <td>may</td>\n",
              "      <td>226.0</td>\n",
              "      <td>1</td>\n",
              "      <td>no</td>\n",
              "    </tr>\n",
              "  </tbody>\n",
              "</table>\n",
              "</div>"
            ],
            "text/plain": [
              "    Age          Job Marital_Status Educational_Qualification Credit_Default  \\\n",
              "0  30.0   unemployed        married                   primary             no   \n",
              "1  33.0     services        married                 secondary             no   \n",
              "2  35.0   management         single                  tertiary             no   \n",
              "3  30.0   management        married                  tertiary             no   \n",
              "4  59.0  blue-collar        married                 secondary             no   \n",
              "\n",
              "   Account_Balance Housing_Loan Personal_Loan Contact_Number  \\\n",
              "0           1787.0           no            no       cellular   \n",
              "1           4789.0          yes           yes       cellular   \n",
              "2           1350.0          yes            no       cellular   \n",
              "3           1476.0          yes           yes       cellular   \n",
              "4              0.0          yes            no       cellular   \n",
              "\n",
              "   Last_Contact_Day Last_Contact_Month  Call_Duration  Current_Campaign  \\\n",
              "0              19.0                oct           79.0                 1   \n",
              "1              11.0                may          220.0                 1   \n",
              "2              16.0                apr          185.0                 1   \n",
              "3               3.0                jun          199.0                 4   \n",
              "4               5.0                may          226.0                 1   \n",
              "\n",
              "  Term_Deposit  \n",
              "0           no  \n",
              "1           no  \n",
              "2           no  \n",
              "3           no  \n",
              "4           no  "
            ]
          },
          "execution_count": 85,
          "metadata": {},
          "output_type": "execute_result"
        }
      ],
      "source": [
        "fbnk.head()"
      ]
    },
    {
      "cell_type": "code",
      "execution_count": null,
      "id": "ecb859f3",
      "metadata": {
        "id": "ecb859f3",
        "outputId": "273cca70-f731-44d1-9588-84ed0b62a2c5"
      },
      "outputs": [
        {
          "data": {
            "image/png": "[encoded data removed]",
            "text/plain": [
              "<Figure size 394.2x288 with 1 Axes>"
            ]
          },
          "metadata": {
            "needs_background": "light"
          },
          "output_type": "display_data"
        }
      ],
      "source": [
        "# In this plot we can say avarage age of 40 years old customers don't have term deposit it does not matter what education \n",
        "# qualification they have. Bank should focuse on this part.\n",
        "g = sns.catplot(x=\"Term_Deposit\", y=\"Age\",\n",
        "                hue=\"Educational_Qualification\",\n",
        "                data=fbnk, kind=\"bar\",\n",
        "                height=4, aspect=.9);"
      ]
    },
    {
      "cell_type": "code",
      "execution_count": null,
      "id": "878bdf39",
      "metadata": {
        "id": "878bdf39",
        "outputId": "fcd9d882-1039-48f1-c68d-671cf9872ed2"
      },
      "outputs": [
        {
          "data": {
            "image/png": "[encoded data removed]",
            "text/plain": [
              "<Figure size 394.2x288 with 1 Axes>"
            ]
          },
          "metadata": {
            "needs_background": "light"
          },
          "output_type": "display_data"
        }
      ],
      "source": [
        "# Here we can see that those customers have avarage balance above than $1500 they have TD and it deosn't matter what educational\n",
        "# qualification they have,but those customers avarage account balance below $1500 and above $1000 they don't have any TD, but\n",
        "# one thing we can notice that who has higest educational qualification and also have avarage balance above $1500 but they don't\n",
        "# have any TD so,we need to talk with this kind of customers and convice them to take a TD.\n",
        "g = sns.catplot(x=\"Term_Deposit\", y=\"Account_Balance\",\n",
        "                hue=\"Educational_Qualification\",\n",
        "                data=fbnk, kind=\"bar\",\n",
        "                height=4, aspect=.9);"
      ]
    },
    {
      "cell_type": "code",
      "execution_count": null,
      "id": "9370010c",
      "metadata": {
        "id": "9370010c",
        "outputId": "e3268cd1-c6eb-414c-e3ab-93ae4732be83"
      },
      "outputs": [
        {
          "data": {
            "image/png": "[encoded data removed]",
            "text/plain": [
              "<Figure size 597.775x288 with 2 Axes>"
            ]
          },
          "metadata": {
            "needs_background": "light"
          },
          "output_type": "display_data"
        }
      ],
      "source": [
        "# After seeing this plot we can say that the age between 30-40 years old customers don't have any term deposit whether they have\n",
        "# credit or not and it doesn't matter because there are not a big difference ,and single marital customers are almost equal \n",
        "# distributed but married and divorced customer are bit higher then in respect of single customers. We need to grab attention of\n",
        "# this customers.  \n",
        "g = sns.catplot(x=\"Term_Deposit\", y=\"Age\",\n",
        "                hue=\"Marital_Status\", col=\"Credit_Default\",\n",
        "                data=fbnk, kind=\"bar\",\n",
        "                height=4, aspect=.9);"
      ]
    },
    {
      "cell_type": "code",
      "execution_count": null,
      "id": "ede57958",
      "metadata": {
        "id": "ede57958",
        "outputId": "14691bd3-60f9-4a47-d3d5-47db595f18d7"
      },
      "outputs": [
        {
          "data": {
            "image/png": "[encoded data removed]",
            "text/plain": [
              "<Figure size 597.775x288 with 2 Axes>"
            ]
          },
          "metadata": {
            "needs_background": "light"
          },
          "output_type": "display_data"
        }
      ],
      "source": [
        "# Here we can see that maximum customers don't have any credit default among of those customers who have avarage account balance \n",
        "# above $1500 they have TD but those customers avarage account balance is below $1500 and above $1000 they don't have TD. We \n",
        "# have to focus this type of customers who have maintain their avarage balance above $1000 and below $1500. One thing more few\n",
        "# customers have credit default but the avarage balance it's zero or might be negetive and they have TD also but it's very low.  \n",
        "g = sns.catplot(x=\"Term_Deposit\", y=\"Account_Balance\",\n",
        "                hue=\"Marital_Status\", col=\"Credit_Default\",\n",
        "                data=fbnk, kind=\"bar\",\n",
        "                height=4, aspect=.9);"
      ]
    },
    {
      "cell_type": "code",
      "execution_count": null,
      "id": "f5e20371",
      "metadata": {
        "scrolled": true,
        "id": "f5e20371",
        "outputId": "0607905e-1b54-4677-8ca2-f589fd5df837"
      },
      "outputs": [
        {
          "data": {
            "image/png": "[encoded data removed]",
            "text/plain": [
              "<Figure size 624.65x288 with 2 Axes>"
            ]
          },
          "metadata": {
            "needs_background": "light"
          },
          "output_type": "display_data"
        }
      ],
      "source": [
        "# In this senario we can say those customers don't have TD(term deposit) they belongs from all kind of job sector and it doesn't\n",
        "# matter if they have credit or not because it's allmost same but maximum customers who are housemaid,retired and student they \n",
        "# don't have TD. We don't have to think about student, but we have to look others customers belongs from different job sector\n",
        "# and avarage age should be 40-45 years except housemaid and retired person.\n",
        "g = sns.catplot(x=\"Term_Deposit\", y=\"Age\",\n",
        "                hue=\"Job\", col=\"Credit_Default\",\n",
        "                data=fbnk, kind=\"bar\",\n",
        "                height=4, aspect=.9);"
      ]
    },
    {
      "cell_type": "code",
      "execution_count": null,
      "id": "2df8f621",
      "metadata": {
        "scrolled": true,
        "id": "2df8f621",
        "outputId": "ddc1d6d2-98f4-453d-ca03-384fd7523418"
      },
      "outputs": [
        {
          "data": {
            "image/png": "[encoded data removed]",
            "text/plain": [
              "<Figure size 624.65x288 with 2 Axes>"
            ]
          },
          "metadata": {
            "needs_background": "light"
          },
          "output_type": "display_data"
        }
      ],
      "source": [
        "# In this Diagram we can say that those customers have credit default they have very avarage low balance and negetive balance, \n",
        "# also few customers have TD. On the otherhand those customers don't have credit default and who's job related with management,\n",
        "# self-employed and retired person they have good number of TD and their avarage account balance above $2000,and those customers\n",
        "# avarage account balance between $1000 to $2000 from all job titles they don't have TD. We should look in this type of customer\n",
        "# and convince to have TD.\n",
        "g = sns.catplot(x=\"Term_Deposit\", y=\"Account_Balance\",\n",
        "                hue=\"Job\", col=\"Credit_Default\",\n",
        "                data=fbnk, kind=\"bar\",\n",
        "                height=4, aspect=.9);"
      ]
    },
    {
      "cell_type": "code",
      "execution_count": null,
      "id": "3c5fba12",
      "metadata": {
        "id": "3c5fba12",
        "outputId": "a201d542-28a2-4d73-8f68-fb9043029d1e"
      },
      "outputs": [
        {
          "data": {
            "image/png": "[encoded data removed]",
            "text/plain": [
              "<Figure size 1186.42x288 with 11 Axes>"
            ]
          },
          "metadata": {
            "needs_background": "light"
          },
          "output_type": "display_data"
        }
      ],
      "source": [
        "# This is very interesting plot where we can see those customers are working with some jobs like services,management,blue-collar\n",
        "# self-employed,technician,entrepreneur,admin and unemployed the result are almost equal distributed in respect of TD, it does \n",
        "# not matter if they have housing loan or not. \n",
        "g = sns.catplot(x=\"Term_Deposit\", y=\"Age\",\n",
        "                col=\"Job\", hue=\"Housing_Loan\",\n",
        "                data=fbnk, kind=\"bar\",\n",
        "                height=4, aspect=.35);"
      ]
    },
    {
      "cell_type": "code",
      "execution_count": null,
      "id": "42e87d90",
      "metadata": {
        "id": "42e87d90",
        "outputId": "d331a6c4-7d4f-4750-c350-e7b8b69f7ed6"
      },
      "outputs": [
        {
          "data": {
            "text/plain": [
              "<FloatingArray>\n",
              "[30.0, 33.0, 35.0, 59.0, 36.0, 39.0, 41.0, 43.0, 20.0, 31.0, 40.0, 56.0, 37.0,\n",
              " 25.0, 38.0, 42.0, 44.0, 26.0, 55.0, 67.0, 53.0, 68.0, 32.0, 49.0, 78.0, 23.0,\n",
              " 52.0, 34.0, 61.0, 45.0, 48.0, 57.0, 54.0, 63.0, 51.0, 29.0, 50.0, 27.0, 60.0,\n",
              " 28.0, 21.0, 58.0, 22.0, 46.0, 24.0, 77.0, 75.0, 47.0, 70.0, 65.0, 64.0, 62.0,\n",
              " 66.0, 19.0, 81.0, 83.0, 80.0, 71.0, 72.0, 69.0, 79.0, 73.0, 86.0, 74.0, 76.0,\n",
              " 87.0, 84.0, 85.0, 90.0, 82.0, 94.0, 95.0, 18.0, 89.0, 92.0, 93.0, 88.0]\n",
              "Length: 77, dtype: Float64"
            ]
          },
          "execution_count": 84,
          "metadata": {},
          "output_type": "execute_result"
        }
      ],
      "source": [
        "fbnk['Age'].unique()"
      ]
    },
    {
      "cell_type": "code",
      "execution_count": null,
      "id": "9357c204",
      "metadata": {
        "id": "9357c204",
        "outputId": "a5eaa753-dd53-4c1f-9cb7-3d1a739355a3"
      },
      "outputs": [
        {
          "data": {
            "text/html": [
              "<div>\n",
              "<style scoped>\n",
              "    .dataframe tbody tr th:only-of-type {\n",
              "        vertical-align: middle;\n",
              "    }\n",
              "\n",
              "    .dataframe tbody tr th {\n",
              "        vertical-align: top;\n",
              "    }\n",
              "\n",
              "    .dataframe thead th {\n",
              "        text-align: right;\n",
              "    }\n",
              "</style>\n",
              "<table border=\"1\" class=\"dataframe\">\n",
              "  <thead>\n",
              "    <tr style=\"text-align: right;\">\n",
              "      <th></th>\n",
              "      <th>Age</th>\n",
              "      <th>Job</th>\n",
              "      <th>Marital_Status</th>\n",
              "      <th>Educational_Qualification</th>\n",
              "      <th>Credit_Default</th>\n",
              "      <th>Account_Balance</th>\n",
              "      <th>Housing_Loan</th>\n",
              "      <th>Personal_Loan</th>\n",
              "      <th>Contact_Number</th>\n",
              "      <th>Last_Contact_Day</th>\n",
              "      <th>Last_Contact_Month</th>\n",
              "      <th>Call_Duration</th>\n",
              "      <th>Current_Campaign</th>\n",
              "      <th>Term_Deposit</th>\n",
              "      <th>Age_Bin</th>\n",
              "      <th>Age_Group</th>\n",
              "    </tr>\n",
              "  </thead>\n",
              "  <tbody>\n",
              "    <tr>\n",
              "      <th>0</th>\n",
              "      <td>30.0</td>\n",
              "      <td>unemployed</td>\n",
              "      <td>married</td>\n",
              "      <td>primary</td>\n",
              "      <td>no</td>\n",
              "      <td>1787.0</td>\n",
              "      <td>no</td>\n",
              "      <td>no</td>\n",
              "      <td>cellular</td>\n",
              "      <td>19.0</td>\n",
              "      <td>oct</td>\n",
              "      <td>79.0</td>\n",
              "      <td>1</td>\n",
              "      <td>no</td>\n",
              "      <td>young</td>\n",
              "      <td>young</td>\n",
              "    </tr>\n",
              "    <tr>\n",
              "      <th>1</th>\n",
              "      <td>33.0</td>\n",
              "      <td>services</td>\n",
              "      <td>married</td>\n",
              "      <td>secondary</td>\n",
              "      <td>no</td>\n",
              "      <td>4789.0</td>\n",
              "      <td>yes</td>\n",
              "      <td>yes</td>\n",
              "      <td>cellular</td>\n",
              "      <td>11.0</td>\n",
              "      <td>may</td>\n",
              "      <td>220.0</td>\n",
              "      <td>1</td>\n",
              "      <td>no</td>\n",
              "      <td>young</td>\n",
              "      <td>young</td>\n",
              "    </tr>\n",
              "    <tr>\n",
              "      <th>2</th>\n",
              "      <td>35.0</td>\n",
              "      <td>management</td>\n",
              "      <td>single</td>\n",
              "      <td>tertiary</td>\n",
              "      <td>no</td>\n",
              "      <td>1350.0</td>\n",
              "      <td>yes</td>\n",
              "      <td>no</td>\n",
              "      <td>cellular</td>\n",
              "      <td>16.0</td>\n",
              "      <td>apr</td>\n",
              "      <td>185.0</td>\n",
              "      <td>1</td>\n",
              "      <td>no</td>\n",
              "      <td>young</td>\n",
              "      <td>young</td>\n",
              "    </tr>\n",
              "    <tr>\n",
              "      <th>3</th>\n",
              "      <td>30.0</td>\n",
              "      <td>management</td>\n",
              "      <td>married</td>\n",
              "      <td>tertiary</td>\n",
              "      <td>no</td>\n",
              "      <td>1476.0</td>\n",
              "      <td>yes</td>\n",
              "      <td>yes</td>\n",
              "      <td>cellular</td>\n",
              "      <td>3.0</td>\n",
              "      <td>jun</td>\n",
              "      <td>199.0</td>\n",
              "      <td>4</td>\n",
              "      <td>no</td>\n",
              "      <td>young</td>\n",
              "      <td>young</td>\n",
              "    </tr>\n",
              "    <tr>\n",
              "      <th>4</th>\n",
              "      <td>59.0</td>\n",
              "      <td>blue-collar</td>\n",
              "      <td>married</td>\n",
              "      <td>secondary</td>\n",
              "      <td>no</td>\n",
              "      <td>0.0</td>\n",
              "      <td>yes</td>\n",
              "      <td>no</td>\n",
              "      <td>cellular</td>\n",
              "      <td>5.0</td>\n",
              "      <td>may</td>\n",
              "      <td>226.0</td>\n",
              "      <td>1</td>\n",
              "      <td>no</td>\n",
              "      <td>old</td>\n",
              "      <td>old</td>\n",
              "    </tr>\n",
              "    <tr>\n",
              "      <th>...</th>\n",
              "      <td>...</td>\n",
              "      <td>...</td>\n",
              "      <td>...</td>\n",
              "      <td>...</td>\n",
              "      <td>...</td>\n",
              "      <td>...</td>\n",
              "      <td>...</td>\n",
              "      <td>...</td>\n",
              "      <td>...</td>\n",
              "      <td>...</td>\n",
              "      <td>...</td>\n",
              "      <td>...</td>\n",
              "      <td>...</td>\n",
              "      <td>...</td>\n",
              "      <td>...</td>\n",
              "      <td>...</td>\n",
              "    </tr>\n",
              "    <tr>\n",
              "      <th>49727</th>\n",
              "      <td>51.0</td>\n",
              "      <td>technician</td>\n",
              "      <td>married</td>\n",
              "      <td>tertiary</td>\n",
              "      <td>no</td>\n",
              "      <td>825.0</td>\n",
              "      <td>no</td>\n",
              "      <td>no</td>\n",
              "      <td>cellular</td>\n",
              "      <td>17.0</td>\n",
              "      <td>nov</td>\n",
              "      <td>977.0</td>\n",
              "      <td>3</td>\n",
              "      <td>yes</td>\n",
              "      <td>old</td>\n",
              "      <td>old</td>\n",
              "    </tr>\n",
              "    <tr>\n",
              "      <th>49728</th>\n",
              "      <td>71.0</td>\n",
              "      <td>retired</td>\n",
              "      <td>divorced</td>\n",
              "      <td>primary</td>\n",
              "      <td>no</td>\n",
              "      <td>1729.0</td>\n",
              "      <td>no</td>\n",
              "      <td>no</td>\n",
              "      <td>cellular</td>\n",
              "      <td>17.0</td>\n",
              "      <td>nov</td>\n",
              "      <td>456.0</td>\n",
              "      <td>2</td>\n",
              "      <td>yes</td>\n",
              "      <td>old</td>\n",
              "      <td>old</td>\n",
              "    </tr>\n",
              "    <tr>\n",
              "      <th>49729</th>\n",
              "      <td>72.0</td>\n",
              "      <td>retired</td>\n",
              "      <td>married</td>\n",
              "      <td>secondary</td>\n",
              "      <td>no</td>\n",
              "      <td>5715.0</td>\n",
              "      <td>no</td>\n",
              "      <td>no</td>\n",
              "      <td>cellular</td>\n",
              "      <td>17.0</td>\n",
              "      <td>nov</td>\n",
              "      <td>1127.0</td>\n",
              "      <td>5</td>\n",
              "      <td>yes</td>\n",
              "      <td>old</td>\n",
              "      <td>old</td>\n",
              "    </tr>\n",
              "    <tr>\n",
              "      <th>49730</th>\n",
              "      <td>57.0</td>\n",
              "      <td>blue-collar</td>\n",
              "      <td>married</td>\n",
              "      <td>secondary</td>\n",
              "      <td>no</td>\n",
              "      <td>668.0</td>\n",
              "      <td>no</td>\n",
              "      <td>no</td>\n",
              "      <td>telephone</td>\n",
              "      <td>17.0</td>\n",
              "      <td>nov</td>\n",
              "      <td>508.0</td>\n",
              "      <td>4</td>\n",
              "      <td>no</td>\n",
              "      <td>old</td>\n",
              "      <td>old</td>\n",
              "    </tr>\n",
              "    <tr>\n",
              "      <th>49731</th>\n",
              "      <td>37.0</td>\n",
              "      <td>entrepreneur</td>\n",
              "      <td>married</td>\n",
              "      <td>secondary</td>\n",
              "      <td>no</td>\n",
              "      <td>2971.0</td>\n",
              "      <td>no</td>\n",
              "      <td>no</td>\n",
              "      <td>cellular</td>\n",
              "      <td>17.0</td>\n",
              "      <td>nov</td>\n",
              "      <td>361.0</td>\n",
              "      <td>2</td>\n",
              "      <td>no</td>\n",
              "      <td>mid aged</td>\n",
              "      <td>mid aged</td>\n",
              "    </tr>\n",
              "  </tbody>\n",
              "</table>\n",
              "<p>45211 rows × 16 columns</p>\n",
              "</div>"
            ],
            "text/plain": [
              "        Age           Job Marital_Status Educational_Qualification  \\\n",
              "0      30.0    unemployed        married                   primary   \n",
              "1      33.0      services        married                 secondary   \n",
              "2      35.0    management         single                  tertiary   \n",
              "3      30.0    management        married                  tertiary   \n",
              "4      59.0   blue-collar        married                 secondary   \n",
              "...     ...           ...            ...                       ...   \n",
              "49727  51.0    technician        married                  tertiary   \n",
              "49728  71.0       retired       divorced                   primary   \n",
              "49729  72.0       retired        married                 secondary   \n",
              "49730  57.0   blue-collar        married                 secondary   \n",
              "49731  37.0  entrepreneur        married                 secondary   \n",
              "\n",
              "      Credit_Default  Account_Balance Housing_Loan Personal_Loan  \\\n",
              "0                 no           1787.0           no            no   \n",
              "1                 no           4789.0          yes           yes   \n",
              "2                 no           1350.0          yes            no   \n",
              "3                 no           1476.0          yes           yes   \n",
              "4                 no              0.0          yes            no   \n",
              "...              ...              ...          ...           ...   \n",
              "49727             no            825.0           no            no   \n",
              "49728             no           1729.0           no            no   \n",
              "49729             no           5715.0           no            no   \n",
              "49730             no            668.0           no            no   \n",
              "49731             no           2971.0           no            no   \n",
              "\n",
              "      Contact_Number  Last_Contact_Day Last_Contact_Month  Call_Duration  \\\n",
              "0           cellular              19.0                oct           79.0   \n",
              "1           cellular              11.0                may          220.0   \n",
              "2           cellular              16.0                apr          185.0   \n",
              "3           cellular               3.0                jun          199.0   \n",
              "4           cellular               5.0                may          226.0   \n",
              "...              ...               ...                ...            ...   \n",
              "49727       cellular              17.0                nov          977.0   \n",
              "49728       cellular              17.0                nov          456.0   \n",
              "49729       cellular              17.0                nov         1127.0   \n",
              "49730      telephone              17.0                nov          508.0   \n",
              "49731       cellular              17.0                nov          361.0   \n",
              "\n",
              "       Current_Campaign Term_Deposit   Age_Bin Age_Group  \n",
              "0                     1           no     young     young  \n",
              "1                     1           no     young     young  \n",
              "2                     1           no     young     young  \n",
              "3                     4           no     young     young  \n",
              "4                     1           no       old       old  \n",
              "...                 ...          ...       ...       ...  \n",
              "49727                 3          yes       old       old  \n",
              "49728                 2          yes       old       old  \n",
              "49729                 5          yes       old       old  \n",
              "49730                 4           no       old       old  \n",
              "49731                 2           no  mid aged  mid aged  \n",
              "\n",
              "[45211 rows x 16 columns]"
            ]
          },
          "execution_count": 87,
          "metadata": {},
          "output_type": "execute_result"
        }
      ],
      "source": [
        "groups = ['kids','teenage', 'young', 'mid aged', 'old']\n",
        "bining = [0, 12, 20, 35, 50, 100]\n",
        "fbnk['Age_Group'] = pd.cut(fbnk['Age'], bins=bining,labels=groups)\n",
        "fbnk"
      ]
    },
    {
      "cell_type": "code",
      "execution_count": null,
      "id": "e0825b84",
      "metadata": {
        "id": "e0825b84"
      },
      "outputs": [],
      "source": [
        "fbnk=fbnk.drop(columns=['Age_Bin'])"
      ]
    },
    {
      "cell_type": "code",
      "execution_count": null,
      "id": "93f64f9e",
      "metadata": {
        "id": "93f64f9e",
        "outputId": "141acb99-ac32-4287-c977-542d1d8c0fd2"
      },
      "outputs": [
        {
          "data": {
            "text/html": [
              "<div>\n",
              "<style scoped>\n",
              "    .dataframe tbody tr th:only-of-type {\n",
              "        vertical-align: middle;\n",
              "    }\n",
              "\n",
              "    .dataframe tbody tr th {\n",
              "        vertical-align: top;\n",
              "    }\n",
              "\n",
              "    .dataframe thead th {\n",
              "        text-align: right;\n",
              "    }\n",
              "</style>\n",
              "<table border=\"1\" class=\"dataframe\">\n",
              "  <thead>\n",
              "    <tr style=\"text-align: right;\">\n",
              "      <th></th>\n",
              "      <th>Age</th>\n",
              "      <th>Job</th>\n",
              "      <th>Marital_Status</th>\n",
              "      <th>Educational_Qualification</th>\n",
              "      <th>Credit_Default</th>\n",
              "      <th>Account_Balance</th>\n",
              "      <th>Housing_Loan</th>\n",
              "      <th>Personal_Loan</th>\n",
              "      <th>Contact_Number</th>\n",
              "      <th>Last_Contact_Day</th>\n",
              "      <th>Last_Contact_Month</th>\n",
              "      <th>Call_Duration</th>\n",
              "      <th>Current_Campaign</th>\n",
              "      <th>Term_Deposit</th>\n",
              "      <th>Age_Group</th>\n",
              "    </tr>\n",
              "  </thead>\n",
              "  <tbody>\n",
              "    <tr>\n",
              "      <th>0</th>\n",
              "      <td>30.0</td>\n",
              "      <td>unemployed</td>\n",
              "      <td>married</td>\n",
              "      <td>primary</td>\n",
              "      <td>no</td>\n",
              "      <td>1787.0</td>\n",
              "      <td>no</td>\n",
              "      <td>no</td>\n",
              "      <td>cellular</td>\n",
              "      <td>19.0</td>\n",
              "      <td>oct</td>\n",
              "      <td>79.0</td>\n",
              "      <td>1</td>\n",
              "      <td>no</td>\n",
              "      <td>young</td>\n",
              "    </tr>\n",
              "    <tr>\n",
              "      <th>1</th>\n",
              "      <td>33.0</td>\n",
              "      <td>services</td>\n",
              "      <td>married</td>\n",
              "      <td>secondary</td>\n",
              "      <td>no</td>\n",
              "      <td>4789.0</td>\n",
              "      <td>yes</td>\n",
              "      <td>yes</td>\n",
              "      <td>cellular</td>\n",
              "      <td>11.0</td>\n",
              "      <td>may</td>\n",
              "      <td>220.0</td>\n",
              "      <td>1</td>\n",
              "      <td>no</td>\n",
              "      <td>young</td>\n",
              "    </tr>\n",
              "    <tr>\n",
              "      <th>2</th>\n",
              "      <td>35.0</td>\n",
              "      <td>management</td>\n",
              "      <td>single</td>\n",
              "      <td>tertiary</td>\n",
              "      <td>no</td>\n",
              "      <td>1350.0</td>\n",
              "      <td>yes</td>\n",
              "      <td>no</td>\n",
              "      <td>cellular</td>\n",
              "      <td>16.0</td>\n",
              "      <td>apr</td>\n",
              "      <td>185.0</td>\n",
              "      <td>1</td>\n",
              "      <td>no</td>\n",
              "      <td>young</td>\n",
              "    </tr>\n",
              "    <tr>\n",
              "      <th>3</th>\n",
              "      <td>30.0</td>\n",
              "      <td>management</td>\n",
              "      <td>married</td>\n",
              "      <td>tertiary</td>\n",
              "      <td>no</td>\n",
              "      <td>1476.0</td>\n",
              "      <td>yes</td>\n",
              "      <td>yes</td>\n",
              "      <td>cellular</td>\n",
              "      <td>3.0</td>\n",
              "      <td>jun</td>\n",
              "      <td>199.0</td>\n",
              "      <td>4</td>\n",
              "      <td>no</td>\n",
              "      <td>young</td>\n",
              "    </tr>\n",
              "    <tr>\n",
              "      <th>4</th>\n",
              "      <td>59.0</td>\n",
              "      <td>blue-collar</td>\n",
              "      <td>married</td>\n",
              "      <td>secondary</td>\n",
              "      <td>no</td>\n",
              "      <td>0.0</td>\n",
              "      <td>yes</td>\n",
              "      <td>no</td>\n",
              "      <td>cellular</td>\n",
              "      <td>5.0</td>\n",
              "      <td>may</td>\n",
              "      <td>226.0</td>\n",
              "      <td>1</td>\n",
              "      <td>no</td>\n",
              "      <td>old</td>\n",
              "    </tr>\n",
              "  </tbody>\n",
              "</table>\n",
              "</div>"
            ],
            "text/plain": [
              "    Age          Job Marital_Status Educational_Qualification Credit_Default  \\\n",
              "0  30.0   unemployed        married                   primary             no   \n",
              "1  33.0     services        married                 secondary             no   \n",
              "2  35.0   management         single                  tertiary             no   \n",
              "3  30.0   management        married                  tertiary             no   \n",
              "4  59.0  blue-collar        married                 secondary             no   \n",
              "\n",
              "   Account_Balance Housing_Loan Personal_Loan Contact_Number  \\\n",
              "0           1787.0           no            no       cellular   \n",
              "1           4789.0          yes           yes       cellular   \n",
              "2           1350.0          yes            no       cellular   \n",
              "3           1476.0          yes           yes       cellular   \n",
              "4              0.0          yes            no       cellular   \n",
              "\n",
              "   Last_Contact_Day Last_Contact_Month  Call_Duration  Current_Campaign  \\\n",
              "0              19.0                oct           79.0                 1   \n",
              "1              11.0                may          220.0                 1   \n",
              "2              16.0                apr          185.0                 1   \n",
              "3               3.0                jun          199.0                 4   \n",
              "4               5.0                may          226.0                 1   \n",
              "\n",
              "  Term_Deposit Age_Group  \n",
              "0           no     young  \n",
              "1           no     young  \n",
              "2           no     young  \n",
              "3           no     young  \n",
              "4           no       old  "
            ]
          },
          "execution_count": 89,
          "metadata": {},
          "output_type": "execute_result"
        }
      ],
      "source": [
        "fbnk.head()"
      ]
    },
    {
      "cell_type": "code",
      "execution_count": null,
      "id": "229a6b8f",
      "metadata": {
        "id": "229a6b8f"
      },
      "outputs": [],
      "source": [
        "# We have to save the clean data as csv.\n",
        "fbnk.to_csv (r'C:\\Users\\Shiva\\Desktop\\sn.csv', index = False, header=True)"
      ]
    },
    {
      "cell_type": "markdown",
      "source": [
        "# Conclusions\n",
        "\n",
        "After doing all above analysis we can say , bank can be incrise their customer in fixed deposite section . They need to focus some particular area so they can\n",
        "explain their customer that what is the benifit of fixed deposite. As we can see bank have maximum married customers also they belongs from different professional sector but most of they are from blue-collar,Management,technician sevices secter and few of them from administrative lable al their maximum education lavel is secendary education. We think bank should focus on married\n",
        "person who age between 35 to 40 years and belongs from blue-collar, management,technician, admin services and also who have house loan  and don't have any personal loan. It does not matter if they have credit default or not. And most of the important thing who have maintain their balance between 1000 to 1500 dollar they can do a Fixed deposite. This all the things bank need to take necessary step.\n",
        "l"
      ],
      "metadata": {
        "id": "SrJ5ipWtgf4U"
      },
      "id": "SrJ5ipWtgf4U"
    }
  ],
  "metadata": {
    "kernelspec": {
      "display_name": "Python 3 (ipykernel)",
      "language": "python",
      "name": "python3"
    },
    "language_info": {
      "codemirror_mode": {
        "name": "ipython",
        "version": 3
      },
      "file_extension": ".py",
      "mimetype": "text/x-python",
      "name": "python",
      "nbconvert_exporter": "python",
      "pygments_lexer": "ipython3",
      "version": "3.9.12"
    },
    "colab": {
      "provenance": []
    }
  },
  "nbformat": 4,
  "nbformat_minor": 5
}